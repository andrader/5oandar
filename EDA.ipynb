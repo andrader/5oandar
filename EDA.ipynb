{
 "cells": [
  {
   "cell_type": "markdown",
   "metadata": {},
   "source": [
    "# Loading data"
   ]
  },
  {
   "cell_type": "code",
   "execution_count": 50,
   "metadata": {},
   "outputs": [],
   "source": [
    "%reload_ext autoreload\n",
    "%autoreload 2\n",
    "import pandas as pd\n",
    "import psycopg2\n",
    "from tqdm.cli import tqdm\n",
    "import janitor\n",
    "\n",
    "import matplotlib.pyplot as plt\n",
    "#plt.rcParams['figure.figsize'] = (20, 10)\n",
    "plt.rc('figure', figsize=(10,6), facecolor='white')\n",
    "#plt.rcParams['axes.facecolor'] = 'white'\n",
    "\n",
    "# tenant_reviews\n",
    "TABLES_NAMES = ['tenant_reviews_clean','visits_contracts','visits_offers_contracts']"
   ]
  },
  {
   "cell_type": "code",
   "execution_count": 51,
   "metadata": {},
   "outputs": [
    {
     "name": "stdout",
     "output_type": "stream",
     "text": [
      "loading tables from parquet\n",
      "tenant_reviews_clean (13470, 18)\n",
      "visits_contracts (15, 3)\n",
      "visits_offers_contracts (8, 7)\n"
     ]
    }
   ],
   "source": [
    "def load_tables_sql(tables_names = TABLES_NAMES):\n",
    "    print(\"loading tables from sql\")\n",
    "    conn = psycopg2.connect(\n",
    "        dbname=\"quintoandar\",\n",
    "        host=\"db.candidates.sandbox.data.quintoandar.com.br\",\n",
    "        port=\"5432\",\n",
    "        user=\"data-analytics\",\n",
    "        password=\"97PGf56yWCWa\",\n",
    "        client_encoding='UTF8'\n",
    "    )\n",
    "    query = \"select * from {}\"\n",
    "\n",
    "    tables = {}\n",
    "    try:\n",
    "        for table in tqdm(tables_names):\n",
    "            df = pd.read_sql(query.format(table), con=conn)\n",
    "            tables[table] = df\n",
    "            print(table, df.shape)\n",
    "    finally:\n",
    "        conn.close()\n",
    "    \n",
    "    return tables\n",
    "\n",
    "\n",
    "def load_tables_parquet(tables = TABLES_NAMES):\n",
    "    print(\"loading tables from parquet\")\n",
    "    parquet_tables = {}\n",
    "    for table in tables:\n",
    "        df = pd.read_parquet(f'data/{table}.parquet')\n",
    "        parquet_tables[table] = df\n",
    "        print(table, df.shape)\n",
    "        #print(f\"{table}:shape of differences: {df.compare(df2).shape}\")\n",
    "\n",
    "    return parquet_tables\n",
    "\n",
    "\n",
    "load_sql = False\n",
    "\n",
    "if load_sql:\n",
    "    tables = load_tables_sql()\n",
    "    # for table, df in tables.items():\n",
    "    #     df.to_parquet(f'data/{table}.parquet')\n",
    "else:\n",
    "    tables = load_tables_parquet()"
   ]
  },
  {
   "cell_type": "code",
   "execution_count": 52,
   "metadata": {},
   "outputs": [],
   "source": [
    "#dftenant_reviews = tables['tenant_reviews']\n",
    "dftenant_reviews_raw = tables['tenant_reviews_clean']\n",
    "dfvisits_contracts = tables['visits_contracts']\n",
    "dfvisits_offers_contracts_raw = tables['visits_offers_contracts']"
   ]
  },
  {
   "cell_type": "markdown",
   "metadata": {},
   "source": [
    "# Tratamentos"
   ]
  },
  {
   "cell_type": "code",
   "execution_count": 53,
   "metadata": {},
   "outputs": [],
   "source": [
    "# data treatments\n",
    "dftenant_reviews = dftenant_reviews_raw.copy()\n",
    "\n",
    "dftenant_reviews[\"visit_date\"] = pd.to_datetime(dftenant_reviews[\"visit_date\"])\n",
    "\n",
    "dftenant_reviews['total'] = True\n",
    "\n",
    "# order review categories\n",
    "review_dtype = pd.CategoricalDtype(\n",
    "    [\"Visita não aconteceu.\", \"1\", \"2\", \"3\", \"4\", \"5\", \"VaiNegociar\"], ordered=True\n",
    ")\n",
    "dftenant_reviews[\"review\"] = dftenant_reviews[\"review\"].replace(\n",
    "    \"EntradaNaoAutorizada\", \"Visita não aconteceu.\"\n",
    ").astype(review_dtype)\n",
    "\n",
    "# review dummies\n",
    "dftenant_reviews = pd.concat(\n",
    "    [dftenant_reviews, pd.get_dummies(dftenant_reviews[\"review\"], prefix=\"review\")],\n",
    "    axis=1,\n",
    ")\n",
    "\n",
    "dftenant_reviews['visit_date_ym'] = dftenant_reviews['visit_date'].dt.strftime('%b')\n",
    "\n",
    "#dftenant_reviews.columns"
   ]
  },
  {
   "cell_type": "code",
   "execution_count": 54,
   "metadata": {},
   "outputs": [],
   "source": [
    "# grouping columns\n",
    "\n",
    "flags = [\n",
    "    \"building\",\n",
    "    \"conservation\",\n",
    "    \"size\",\n",
    "    \"price\",\n",
    "    \"location\",\n",
    "    \"total\",\n",
    "]\n",
    "\n",
    "\n",
    "neg_flags = [\n",
    "    \n",
    "    \"did_not_like_the_location\",\n",
    "    \"expected_a_better_preserved_property\",\n",
    "    \"bigger_in_photos\",\n",
    "    \"different_from_the_listing\",\n",
    "    \"total\",\n",
    "]\n",
    "\n",
    "others = [\n",
    "    # \"visit_date\",\n",
    "    # \"day\",\n",
    "    # \"time\",\n",
    "    # \"house_id\",\n",
    "    # \"neighbourhood\",\n",
    "    # \"visitor\",\n",
    "    # \"agent\",\n",
    "    # \"review\",\n",
    "    # \"others\",\n",
    "]\n",
    "\n",
    "dummies = list(dftenant_reviews.columns[dftenant_reviews.columns.str.startswith(\"review_\")])\n",
    "\n",
    "\n",
    "cols_other = [c for c in dftenant_reviews.columns if c not in flags+neg_flags+dummies]\n",
    "\n",
    "\n",
    "#dftenant_reviews.groupby(flags)[['visitor']].count().sort_values(flags)\n",
    "\n",
    "def fmtr(args):\n",
    "    x,y=args\n",
    "    return f\"{x:.0f} ({y:.0%})\"\n",
    "\n"
   ]
  },
  {
   "cell_type": "code",
   "execution_count": 55,
   "metadata": {},
   "outputs": [],
   "source": [
    "# dfvisits_offers_contracts\n",
    "months_cat = ['jan', 'fev', 'mar', 'abr', 'mai', 'jun', 'jul', 'ago']\n",
    "months_cat = pd.CategoricalDtype(months_cat, ordered=True)\n",
    "\n",
    "funnel_cat = [\n",
    "    \"visits\",\n",
    "    \"tenant_that_visited\",\n",
    "    \"visited_houses\",\n",
    "    \"offers\",\n",
    "    \"tenants_that_made_offers\",\n",
    "    \"contracts\",\n",
    "]\n",
    "funnel_cat = pd.CategoricalDtype(reversed(funnel_cat), ordered=True)\n",
    "\n",
    "dfvisits_offers_contracts = pd.melt(dfvisits_offers_contracts_raw,id_vars=[\"month\"])\n",
    "\n",
    "dfvisits_offers_contracts['month'] = dfvisits_offers_contracts['month'].astype(months_cat)\n",
    "dfvisits_offers_contracts['variable'] = dfvisits_offers_contracts['variable'].astype(funnel_cat)"
   ]
  },
  {
   "cell_type": "code",
   "execution_count": 56,
   "metadata": {},
   "outputs": [],
   "source": [
    "## IMAGES\n",
    "import os\n",
    "if not os.path.exists(\"images\"):\n",
    "    os.mkdir(\"images\")"
   ]
  },
  {
   "cell_type": "markdown",
   "metadata": {},
   "source": [
    "# EDA"
   ]
  },
  {
   "cell_type": "markdown",
   "metadata": {},
   "source": [
    "## Contratos de visitas\n",
    "\n",
    "Para começar, vamos explorar a tabela de contratos de visitas.\n",
    "\n",
    "O gráfico abaixo mostra que o número inquilinos que não assinaram cai (quase que) exponencialmente com o número de visitas. Enquanto que o número de inquilinos que assinaram também decresce, mas num  .\n",
    "\n",
    "Se considerarmos a proporção de inquilinos que assinaram como uma estimativa de probabilidade, então\n",
    "**a probabilidade do inquilino assinar parece crescer com o número de visitas até a quinta vista e depois decrescer.**"
   ]
  },
  {
   "cell_type": "code",
   "execution_count": 62,
   "metadata": {},
   "outputs": [
    {
     "data": {
      "image/png": "[encoded data removed]",
      "text/plain": [
       "<Figure size 1080x432 with 2 Axes>"
      ]
     },
     "metadata": {},
     "output_type": "display_data"
    }
   ],
   "source": [
    "# dfvisits_contracts\n",
    "\n",
    "fig, axs = plt.subplots(ncols=2, figsize=(15,6))\n",
    "\n",
    "df = dfvisits_contracts.set_index('visits').copy()\n",
    "\n",
    "df.plot(ax=axs[0], title='number of contracts')\n",
    "axs[0].axhline(0, c='lightgray', zorder=-10)\n",
    "\n",
    "df['prop_tenants_that_signed'] = df['tenants_that_signed'] / df.sum(axis=1) * 100\n",
    "df['prop_tenants_that_signed'].plot(ax=axs[1], title='proportion of tenants that signed')\n",
    "axs[1].axhline(0, c='lightgray', zorder=-10)\n",
    "\n",
    "plt.savefig('images/fig01.png')"
   ]
  },
  {
   "cell_type": "markdown",
   "metadata": {},
   "source": [
    "## Funil de contratos de ofertas de visitas\n",
    "\n",
    "A figura mostra a tendências das variáveis ao longo do tempo e, no lado direito, as correlações (lineares) dessas variáveis entre si.\n",
    "\n",
    "Como mencionado no case, o número de contratos apresenta uma tendência de queda. \n",
    "\n",
    "O número de inquilinos que visitaram e o número de visitas mostram-se *negativamente* correlacionadas com o número de contratos.\n",
    "Enquanto que o número de inquilinos que fizeram uma oferta é *positivamente* correlacionado com o número de contratos.\n",
    "\n",
    "O bottleneck que parece ser o mais grave acontece no número de casas visitadas. O **número de casas visitadas parece estar limitando o funil abaixo**: número de ofertas, de inquilinos que fizeram ofertas e, consequentemente, o número de contratos.\n",
    "\n",
    "Um outro bottleneck parece ser o número de **inquilinos que fizeram ofertas**.\n"
   ]
  },
  {
   "cell_type": "code",
   "execution_count": 63,
   "metadata": {},
   "outputs": [
    {
     "data": {
      "application/vnd.plotly.v1+json": {
       "config": {
        "plotlyServerURL": "https://plot.ly"
       },
       "data": [
        {
         "hovertemplate": "variable=%{y}<br>month=jan<br>value=%{x}<extra></extra>",
         "legendgroup": "contracts",
         "marker": {
          "color": "#440154"
         },
         "name": "contracts",
         "orientation": "h",
         "showlegend": true,
         "type": "funnel",
         "x": [
          724
         ],
         "xaxis": "x5",
         "y": [
          "contracts"
         ],
         "yaxis": "y5"
        },
        {
         "hovertemplate": "variable=%{y}<br>month=fev<br>value=%{x}<extra></extra>",
         "legendgroup": "contracts",
         "marker": {
          "color": "#440154"
         },
         "name": "contracts",
         "orientation": "h",
         "showlegend": false,
         "type": "funnel",
         "x": [
          689
         ],
         "xaxis": "x6",
         "y": [
          "contracts"
         ],
         "yaxis": "y6"
        },
        {
         "hovertemplate": "variable=%{y}<br>month=mar<br>value=%{x}<extra></extra>",
         "legendgroup": "contracts",
         "marker": {
          "color": "#440154"
         },
         "name": "contracts",
         "orientation": "h",
         "showlegend": false,
         "type": "funnel",
         "x": [
          667
         ],
         "xaxis": "x7",
         "y": [
          "contracts"
         ],
         "yaxis": "y7"
        },
        {
         "hovertemplate": "variable=%{y}<br>month=abr<br>value=%{x}<extra></extra>",
         "legendgroup": "contracts",
         "marker": {
          "color": "#440154"
         },
         "name": "contracts",
         "orientation": "h",
         "showlegend": false,
         "type": "funnel",
         "x": [
          603
         ],
         "xaxis": "x8",
         "y": [
          "contracts"
         ],
         "yaxis": "y8"
        },
        {
         "hovertemplate": "variable=%{y}<br>month=mai<br>value=%{x}<extra></extra>",
         "legendgroup": "contracts",
         "marker": {
          "color": "#440154"
         },
         "name": "contracts",
         "orientation": "h",
         "showlegend": false,
         "type": "funnel",
         "x": [
          544
         ],
         "xaxis": "x",
         "y": [
          "contracts"
         ],
         "yaxis": "y"
        },
        {
         "hovertemplate": "variable=%{y}<br>month=jun<br>value=%{x}<extra></extra>",
         "legendgroup": "contracts",
         "marker": {
          "color": "#440154"
         },
         "name": "contracts",
         "orientation": "h",
         "showlegend": false,
         "type": "funnel",
         "x": [
          542
         ],
         "xaxis": "x2",
         "y": [
          "contracts"
         ],
         "yaxis": "y2"
        },
        {
         "hovertemplate": "variable=%{y}<br>month=jul<br>value=%{x}<extra></extra>",
         "legendgroup": "contracts",
         "marker": {
          "color": "#440154"
         },
         "name": "contracts",
         "orientation": "h",
         "showlegend": false,
         "type": "funnel",
         "x": [
          443
         ],
         "xaxis": "x3",
         "y": [
          "contracts"
         ],
         "yaxis": "y3"
        },
        {
         "hovertemplate": "variable=%{y}<br>month=ago<br>value=%{x}<extra></extra>",
         "legendgroup": "contracts",
         "marker": {
          "color": "#440154"
         },
         "name": "contracts",
         "orientation": "h",
         "showlegend": false,
         "type": "funnel",
         "x": [
          376
         ],
         "xaxis": "x4",
         "y": [
          "contracts"
         ],
         "yaxis": "y4"
        },
        {
         "hovertemplate": "variable=%{y}<br>month=jan<br>value=%{x}<extra></extra>",
         "legendgroup": "tenants_that_made_offers",
         "marker": {
          "color": "#482878"
         },
         "name": "tenants_that_made_offers",
         "orientation": "h",
         "showlegend": true,
         "type": "funnel",
         "x": [
          2977
         ],
         "xaxis": "x5",
         "y": [
          "tenants_that_made_offers"
         ],
         "yaxis": "y5"
        },
        {
         "hovertemplate": "variable=%{y}<br>month=fev<br>value=%{x}<extra></extra>",
         "legendgroup": "tenants_that_made_offers",
         "marker": {
          "color": "#482878"
         },
         "name": "tenants_that_made_offers",
         "orientation": "h",
         "showlegend": false,
         "type": "funnel",
         "x": [
          2461
         ],
         "xaxis": "x6",
         "y": [
          "tenants_that_made_offers"
         ],
         "yaxis": "y6"
        },
        {
         "hovertemplate": "variable=%{y}<br>month=mar<br>value=%{x}<extra></extra>",
         "legendgroup": "tenants_that_made_offers",
         "marker": {
          "color": "#482878"
         },
         "name": "tenants_that_made_offers",
         "orientation": "h",
         "showlegend": false,
         "type": "funnel",
         "x": [
          2526
         ],
         "xaxis": "x7",
         "y": [
          "tenants_that_made_offers"
         ],
         "yaxis": "y7"
        },
        {
         "hovertemplate": "variable=%{y}<br>month=abr<br>value=%{x}<extra></extra>",
         "legendgroup": "tenants_that_made_offers",
         "marker": {
          "color": "#482878"
         },
         "name": "tenants_that_made_offers",
         "orientation": "h",
         "showlegend": false,
         "type": "funnel",
         "x": [
          1699
         ],
         "xaxis": "x8",
         "y": [
          "tenants_that_made_offers"
         ],
         "yaxis": "y8"
        },
        {
         "hovertemplate": "variable=%{y}<br>month=mai<br>value=%{x}<extra></extra>",
         "legendgroup": "tenants_that_made_offers",
         "marker": {
          "color": "#482878"
         },
         "name": "tenants_that_made_offers",
         "orientation": "h",
         "showlegend": false,
         "type": "funnel",
         "x": [
          2645
         ],
         "xaxis": "x",
         "y": [
          "tenants_that_made_offers"
         ],
         "yaxis": "y"
        },
        {
         "hovertemplate": "variable=%{y}<br>month=jun<br>value=%{x}<extra></extra>",
         "legendgroup": "tenants_that_made_offers",
         "marker": {
          "color": "#482878"
         },
         "name": "tenants_that_made_offers",
         "orientation": "h",
         "showlegend": false,
         "type": "funnel",
         "x": [
          1583
         ],
         "xaxis": "x2",
         "y": [
          "tenants_that_made_offers"
         ],
         "yaxis": "y2"
        },
        {
         "hovertemplate": "variable=%{y}<br>month=jul<br>value=%{x}<extra></extra>",
         "legendgroup": "tenants_that_made_offers",
         "marker": {
          "color": "#482878"
         },
         "name": "tenants_that_made_offers",
         "orientation": "h",
         "showlegend": false,
         "type": "funnel",
         "x": [
          1801
         ],
         "xaxis": "x3",
         "y": [
          "tenants_that_made_offers"
         ],
         "yaxis": "y3"
        },
        {
         "hovertemplate": "variable=%{y}<br>month=ago<br>value=%{x}<extra></extra>",
         "legendgroup": "tenants_that_made_offers",
         "marker": {
          "color": "#482878"
         },
         "name": "tenants_that_made_offers",
         "orientation": "h",
         "showlegend": false,
         "type": "funnel",
         "x": [
          1857
         ],
         "xaxis": "x4",
         "y": [
          "tenants_that_made_offers"
         ],
         "yaxis": "y4"
        },
        {
         "hovertemplate": "variable=%{y}<br>month=jan<br>value=%{x}<extra></extra>",
         "legendgroup": "offers",
         "marker": {
          "color": "#3e4989"
         },
         "name": "offers",
         "orientation": "h",
         "showlegend": true,
         "type": "funnel",
         "x": [
          3924
         ],
         "xaxis": "x5",
         "y": [
          "offers"
         ],
         "yaxis": "y5"
        },
        {
         "hovertemplate": "variable=%{y}<br>month=fev<br>value=%{x}<extra></extra>",
         "legendgroup": "offers",
         "marker": {
          "color": "#3e4989"
         },
         "name": "offers",
         "orientation": "h",
         "showlegend": false,
         "type": "funnel",
         "x": [
          3658
         ],
         "xaxis": "x6",
         "y": [
          "offers"
         ],
         "yaxis": "y6"
        },
        {
         "hovertemplate": "variable=%{y}<br>month=mar<br>value=%{x}<extra></extra>",
         "legendgroup": "offers",
         "marker": {
          "color": "#3e4989"
         },
         "name": "offers",
         "orientation": "h",
         "showlegend": false,
         "type": "funnel",
         "x": [
          3791
         ],
         "xaxis": "x7",
         "y": [
          "offers"
         ],
         "yaxis": "y7"
        },
        {
         "hovertemplate": "variable=%{y}<br>month=abr<br>value=%{x}<extra></extra>",
         "legendgroup": "offers",
         "marker": {
          "color": "#3e4989"
         },
         "name": "offers",
         "orientation": "h",
         "showlegend": false,
         "type": "funnel",
         "x": [
          2453
         ],
         "xaxis": "x8",
         "y": [
          "offers"
         ],
         "yaxis": "y8"
        },
        {
         "hovertemplate": "variable=%{y}<br>month=mai<br>value=%{x}<extra></extra>",
         "legendgroup": "offers",
         "marker": {
          "color": "#3e4989"
         },
         "name": "offers",
         "orientation": "h",
         "showlegend": false,
         "type": "funnel",
         "x": [
          3587
         ],
         "xaxis": "x",
         "y": [
          "offers"
         ],
         "yaxis": "y"
        },
        {
         "hovertemplate": "variable=%{y}<br>month=jun<br>value=%{x}<extra></extra>",
         "legendgroup": "offers",
         "marker": {
          "color": "#3e4989"
         },
         "name": "offers",
         "orientation": "h",
         "showlegend": false,
         "type": "funnel",
         "x": [
          3011
         ],
         "xaxis": "x2",
         "y": [
          "offers"
         ],
         "yaxis": "y2"
        },
        {
         "hovertemplate": "variable=%{y}<br>month=jul<br>value=%{x}<extra></extra>",
         "legendgroup": "offers",
         "marker": {
          "color": "#3e4989"
         },
         "name": "offers",
         "orientation": "h",
         "showlegend": false,
         "type": "funnel",
         "x": [
          3500
         ],
         "xaxis": "x3",
         "y": [
          "offers"
         ],
         "yaxis": "y3"
        },
        {
         "hovertemplate": "variable=%{y}<br>month=ago<br>value=%{x}<extra></extra>",
         "legendgroup": "offers",
         "marker": {
          "color": "#3e4989"
         },
         "name": "offers",
         "orientation": "h",
         "showlegend": false,
         "type": "funnel",
         "x": [
          3431
         ],
         "xaxis": "x4",
         "y": [
          "offers"
         ],
         "yaxis": "y4"
        },
        {
         "hovertemplate": "variable=%{y}<br>month=jan<br>value=%{x}<extra></extra>",
         "legendgroup": "visited_houses",
         "marker": {
          "color": "#31688e"
         },
         "name": "visited_houses",
         "orientation": "h",
         "showlegend": true,
         "type": "funnel",
         "x": [
          4140
         ],
         "xaxis": "x5",
         "y": [
          "visited_houses"
         ],
         "yaxis": "y5"
        },
        {
         "hovertemplate": "variable=%{y}<br>month=fev<br>value=%{x}<extra></extra>",
         "legendgroup": "visited_houses",
         "marker": {
          "color": "#31688e"
         },
         "name": "visited_houses",
         "orientation": "h",
         "showlegend": false,
         "type": "funnel",
         "x": [
          4322
         ],
         "xaxis": "x6",
         "y": [
          "visited_houses"
         ],
         "yaxis": "y6"
        },
        {
         "hovertemplate": "variable=%{y}<br>month=mar<br>value=%{x}<extra></extra>",
         "legendgroup": "visited_houses",
         "marker": {
          "color": "#31688e"
         },
         "name": "visited_houses",
         "orientation": "h",
         "showlegend": false,
         "type": "funnel",
         "x": [
          4299
         ],
         "xaxis": "x7",
         "y": [
          "visited_houses"
         ],
         "yaxis": "y7"
        },
        {
         "hovertemplate": "variable=%{y}<br>month=abr<br>value=%{x}<extra></extra>",
         "legendgroup": "visited_houses",
         "marker": {
          "color": "#31688e"
         },
         "name": "visited_houses",
         "orientation": "h",
         "showlegend": false,
         "type": "funnel",
         "x": [
          3150
         ],
         "xaxis": "x8",
         "y": [
          "visited_houses"
         ],
         "yaxis": "y8"
        },
        {
         "hovertemplate": "variable=%{y}<br>month=mai<br>value=%{x}<extra></extra>",
         "legendgroup": "visited_houses",
         "marker": {
          "color": "#31688e"
         },
         "name": "visited_houses",
         "orientation": "h",
         "showlegend": false,
         "type": "funnel",
         "x": [
          4006
         ],
         "xaxis": "x",
         "y": [
          "visited_houses"
         ],
         "yaxis": "y"
        },
        {
         "hovertemplate": "variable=%{y}<br>month=jun<br>value=%{x}<extra></extra>",
         "legendgroup": "visited_houses",
         "marker": {
          "color": "#31688e"
         },
         "name": "visited_houses",
         "orientation": "h",
         "showlegend": false,
         "type": "funnel",
         "x": [
          3250
         ],
         "xaxis": "x2",
         "y": [
          "visited_houses"
         ],
         "yaxis": "y2"
        },
        {
         "hovertemplate": "variable=%{y}<br>month=jul<br>value=%{x}<extra></extra>",
         "legendgroup": "visited_houses",
         "marker": {
          "color": "#31688e"
         },
         "name": "visited_houses",
         "orientation": "h",
         "showlegend": false,
         "type": "funnel",
         "x": [
          3993
         ],
         "xaxis": "x3",
         "y": [
          "visited_houses"
         ],
         "yaxis": "y3"
        },
        {
         "hovertemplate": "variable=%{y}<br>month=ago<br>value=%{x}<extra></extra>",
         "legendgroup": "visited_houses",
         "marker": {
          "color": "#31688e"
         },
         "name": "visited_houses",
         "orientation": "h",
         "showlegend": false,
         "type": "funnel",
         "x": [
          4155
         ],
         "xaxis": "x4",
         "y": [
          "visited_houses"
         ],
         "yaxis": "y4"
        },
        {
         "hovertemplate": "variable=%{y}<br>month=jan<br>value=%{x}<extra></extra>",
         "legendgroup": "tenant_that_visited",
         "marker": {
          "color": "#26828e"
         },
         "name": "tenant_that_visited",
         "orientation": "h",
         "showlegend": true,
         "type": "funnel",
         "x": [
          4678
         ],
         "xaxis": "x5",
         "y": [
          "tenant_that_visited"
         ],
         "yaxis": "y5"
        },
        {
         "hovertemplate": "variable=%{y}<br>month=fev<br>value=%{x}<extra></extra>",
         "legendgroup": "tenant_that_visited",
         "marker": {
          "color": "#26828e"
         },
         "name": "tenant_that_visited",
         "orientation": "h",
         "showlegend": false,
         "type": "funnel",
         "x": [
          5193
         ],
         "xaxis": "x6",
         "y": [
          "tenant_that_visited"
         ],
         "yaxis": "y6"
        },
        {
         "hovertemplate": "variable=%{y}<br>month=mar<br>value=%{x}<extra></extra>",
         "legendgroup": "tenant_that_visited",
         "marker": {
          "color": "#26828e"
         },
         "name": "tenant_that_visited",
         "orientation": "h",
         "showlegend": false,
         "type": "funnel",
         "x": [
          5322
         ],
         "xaxis": "x7",
         "y": [
          "tenant_that_visited"
         ],
         "yaxis": "y7"
        },
        {
         "hovertemplate": "variable=%{y}<br>month=abr<br>value=%{x}<extra></extra>",
         "legendgroup": "tenant_that_visited",
         "marker": {
          "color": "#26828e"
         },
         "name": "tenant_that_visited",
         "orientation": "h",
         "showlegend": false,
         "type": "funnel",
         "x": [
          5844
         ],
         "xaxis": "x8",
         "y": [
          "tenant_that_visited"
         ],
         "yaxis": "y8"
        },
        {
         "hovertemplate": "variable=%{y}<br>month=mai<br>value=%{x}<extra></extra>",
         "legendgroup": "tenant_that_visited",
         "marker": {
          "color": "#26828e"
         },
         "name": "tenant_that_visited",
         "orientation": "h",
         "showlegend": false,
         "type": "funnel",
         "x": [
          6112
         ],
         "xaxis": "x",
         "y": [
          "tenant_that_visited"
         ],
         "yaxis": "y"
        },
        {
         "hovertemplate": "variable=%{y}<br>month=jun<br>value=%{x}<extra></extra>",
         "legendgroup": "tenant_that_visited",
         "marker": {
          "color": "#26828e"
         },
         "name": "tenant_that_visited",
         "orientation": "h",
         "showlegend": false,
         "type": "funnel",
         "x": [
          6710
         ],
         "xaxis": "x2",
         "y": [
          "tenant_that_visited"
         ],
         "yaxis": "y2"
        },
        {
         "hovertemplate": "variable=%{y}<br>month=jul<br>value=%{x}<extra></extra>",
         "legendgroup": "tenant_that_visited",
         "marker": {
          "color": "#26828e"
         },
         "name": "tenant_that_visited",
         "orientation": "h",
         "showlegend": false,
         "type": "funnel",
         "x": [
          7122
         ],
         "xaxis": "x3",
         "y": [
          "tenant_that_visited"
         ],
         "yaxis": "y3"
        },
        {
         "hovertemplate": "variable=%{y}<br>month=ago<br>value=%{x}<extra></extra>",
         "legendgroup": "tenant_that_visited",
         "marker": {
          "color": "#26828e"
         },
         "name": "tenant_that_visited",
         "orientation": "h",
         "showlegend": false,
         "type": "funnel",
         "x": [
          7630
         ],
         "xaxis": "x4",
         "y": [
          "tenant_that_visited"
         ],
         "yaxis": "y4"
        },
        {
         "hovertemplate": "variable=%{y}<br>month=jan<br>value=%{x}<extra></extra>",
         "legendgroup": "visits",
         "marker": {
          "color": "#1f9e89"
         },
         "name": "visits",
         "orientation": "h",
         "showlegend": true,
         "type": "funnel",
         "x": [
          7130
         ],
         "xaxis": "x5",
         "y": [
          "visits"
         ],
         "yaxis": "y5"
        },
        {
         "hovertemplate": "variable=%{y}<br>month=fev<br>value=%{x}<extra></extra>",
         "legendgroup": "visits",
         "marker": {
          "color": "#1f9e89"
         },
         "name": "visits",
         "orientation": "h",
         "showlegend": false,
         "type": "funnel",
         "x": [
          7132
         ],
         "xaxis": "x6",
         "y": [
          "visits"
         ],
         "yaxis": "y6"
        },
        {
         "hovertemplate": "variable=%{y}<br>month=mar<br>value=%{x}<extra></extra>",
         "legendgroup": "visits",
         "marker": {
          "color": "#1f9e89"
         },
         "name": "visits",
         "orientation": "h",
         "showlegend": false,
         "type": "funnel",
         "x": [
          6933
         ],
         "xaxis": "x7",
         "y": [
          "visits"
         ],
         "yaxis": "y7"
        },
        {
         "hovertemplate": "variable=%{y}<br>month=abr<br>value=%{x}<extra></extra>",
         "legendgroup": "visits",
         "marker": {
          "color": "#1f9e89"
         },
         "name": "visits",
         "orientation": "h",
         "showlegend": false,
         "type": "funnel",
         "x": [
          7342
         ],
         "xaxis": "x8",
         "y": [
          "visits"
         ],
         "yaxis": "y8"
        },
        {
         "hovertemplate": "variable=%{y}<br>month=mai<br>value=%{x}<extra></extra>",
         "legendgroup": "visits",
         "marker": {
          "color": "#1f9e89"
         },
         "name": "visits",
         "orientation": "h",
         "showlegend": false,
         "type": "funnel",
         "x": [
          7238
         ],
         "xaxis": "x",
         "y": [
          "visits"
         ],
         "yaxis": "y"
        },
        {
         "hovertemplate": "variable=%{y}<br>month=jun<br>value=%{x}<extra></extra>",
         "legendgroup": "visits",
         "marker": {
          "color": "#1f9e89"
         },
         "name": "visits",
         "orientation": "h",
         "showlegend": false,
         "type": "funnel",
         "x": [
          8377
         ],
         "xaxis": "x2",
         "y": [
          "visits"
         ],
         "yaxis": "y2"
        },
        {
         "hovertemplate": "variable=%{y}<br>month=jul<br>value=%{x}<extra></extra>",
         "legendgroup": "visits",
         "marker": {
          "color": "#1f9e89"
         },
         "name": "visits",
         "orientation": "h",
         "showlegend": false,
         "type": "funnel",
         "x": [
          8130
         ],
         "xaxis": "x3",
         "y": [
          "visits"
         ],
         "yaxis": "y3"
        },
        {
         "hovertemplate": "variable=%{y}<br>month=ago<br>value=%{x}<extra></extra>",
         "legendgroup": "visits",
         "marker": {
          "color": "#1f9e89"
         },
         "name": "visits",
         "orientation": "h",
         "showlegend": false,
         "type": "funnel",
         "x": [
          8288
         ],
         "xaxis": "x4",
         "y": [
          "visits"
         ],
         "yaxis": "y4"
        }
       ],
       "layout": {
        "annotations": [
         {
          "font": {},
          "showarrow": false,
          "text": "mai",
          "x": 0.1175,
          "xanchor": "center",
          "xref": "paper",
          "y": 0.45,
          "yanchor": "bottom",
          "yref": "paper"
         },
         {
          "font": {},
          "showarrow": false,
          "text": "jun",
          "x": 0.3725,
          "xanchor": "center",
          "xref": "paper",
          "y": 0.45,
          "yanchor": "bottom",
          "yref": "paper"
         },
         {
          "font": {},
          "showarrow": false,
          "text": "jul",
          "x": 0.6275,
          "xanchor": "center",
          "xref": "paper",
          "y": 0.45,
          "yanchor": "bottom",
          "yref": "paper"
         },
         {
          "font": {},
          "showarrow": false,
          "text": "ago",
          "x": 0.8824999999999998,
          "xanchor": "center",
          "xref": "paper",
          "y": 0.45,
          "yanchor": "bottom",
          "yref": "paper"
         },
         {
          "font": {},
          "showarrow": false,
          "text": "jan",
          "x": 0.1175,
          "xanchor": "center",
          "xref": "paper",
          "y": 1,
          "yanchor": "bottom",
          "yref": "paper"
         },
         {
          "font": {},
          "showarrow": false,
          "text": "fev",
          "x": 0.3725,
          "xanchor": "center",
          "xref": "paper",
          "y": 1,
          "yanchor": "bottom",
          "yref": "paper"
         },
         {
          "font": {},
          "showarrow": false,
          "text": "mar",
          "x": 0.6275,
          "xanchor": "center",
          "xref": "paper",
          "y": 1,
          "yanchor": "bottom",
          "yref": "paper"
         },
         {
          "font": {},
          "showarrow": false,
          "text": "abr",
          "x": 0.8824999999999998,
          "xanchor": "center",
          "xref": "paper",
          "y": 1,
          "yanchor": "bottom",
          "yref": "paper"
         }
        ],
        "height": 600,
        "legend": {
         "title": {
          "text": "variable"
         },
         "tracegroupgap": 0,
         "traceorder": "reversed"
        },
        "template": {
         "data": {
          "bar": [
           {
            "error_x": {
             "color": "#2a3f5f"
            },
            "error_y": {
             "color": "#2a3f5f"
            },
            "marker": {
             "line": {
              "color": "#E5ECF6",
              "width": 0.5
             },
             "pattern": {
              "fillmode": "overlay",
              "size": 10,
              "solidity": 0.2
             }
            },
            "type": "bar"
           }
          ],
          "barpolar": [
           {
            "marker": {
             "line": {
              "color": "#E5ECF6",
              "width": 0.5
             },
             "pattern": {
              "fillmode": "overlay",
              "size": 10,
              "solidity": 0.2
             }
            },
            "type": "barpolar"
           }
          ],
          "carpet": [
           {
            "aaxis": {
             "endlinecolor": "#2a3f5f",
             "gridcolor": "white",
             "linecolor": "white",
             "minorgridcolor": "white",
             "startlinecolor": "#2a3f5f"
            },
            "baxis": {
             "endlinecolor": "#2a3f5f",
             "gridcolor": "white",
             "linecolor": "white",
             "minorgridcolor": "white",
             "startlinecolor": "#2a3f5f"
            },
            "type": "carpet"
           }
          ],
          "choropleth": [
           {
            "colorbar": {
             "outlinewidth": 0,
             "ticks": ""
            },
            "type": "choropleth"
           }
          ],
          "contour": [
           {
            "colorbar": {
             "outlinewidth": 0,
             "ticks": ""
            },
            "colorscale": [
             [
              0,
              "#0d0887"
             ],
             [
              0.1111111111111111,
              "#46039f"
             ],
             [
              0.2222222222222222,
              "#7201a8"
             ],
             [
              0.3333333333333333,
              "#9c179e"
             ],
             [
              0.4444444444444444,
              "#bd3786"
             ],
             [
              0.5555555555555556,
              "#d8576b"
             ],
             [
              0.6666666666666666,
              "#ed7953"
             ],
             [
              0.7777777777777778,
              "#fb9f3a"
             ],
             [
              0.8888888888888888,
              "#fdca26"
             ],
             [
              1,
              "#f0f921"
             ]
            ],
            "type": "contour"
           }
          ],
          "contourcarpet": [
           {
            "colorbar": {
             "outlinewidth": 0,
             "ticks": ""
            },
            "type": "contourcarpet"
           }
          ],
          "heatmap": [
           {
            "colorbar": {
             "outlinewidth": 0,
             "ticks": ""
            },
            "colorscale": [
             [
              0,
              "#0d0887"
             ],
             [
              0.1111111111111111,
              "#46039f"
             ],
             [
              0.2222222222222222,
              "#7201a8"
             ],
             [
              0.3333333333333333,
              "#9c179e"
             ],
             [
              0.4444444444444444,
              "#bd3786"
             ],
             [
              0.5555555555555556,
              "#d8576b"
             ],
             [
              0.6666666666666666,
              "#ed7953"
             ],
             [
              0.7777777777777778,
              "#fb9f3a"
             ],
             [
              0.8888888888888888,
              "#fdca26"
             ],
             [
              1,
              "#f0f921"
             ]
            ],
            "type": "heatmap"
           }
          ],
          "heatmapgl": [
           {
            "colorbar": {
             "outlinewidth": 0,
             "ticks": ""
            },
            "colorscale": [
             [
              0,
              "#0d0887"
             ],
             [
              0.1111111111111111,
              "#46039f"
             ],
             [
              0.2222222222222222,
              "#7201a8"
             ],
             [
              0.3333333333333333,
              "#9c179e"
             ],
             [
              0.4444444444444444,
              "#bd3786"
             ],
             [
              0.5555555555555556,
              "#d8576b"
             ],
             [
              0.6666666666666666,
              "#ed7953"
             ],
             [
              0.7777777777777778,
              "#fb9f3a"
             ],
             [
              0.8888888888888888,
              "#fdca26"
             ],
             [
              1,
              "#f0f921"
             ]
            ],
            "type": "heatmapgl"
           }
          ],
          "histogram": [
           {
            "marker": {
             "pattern": {
              "fillmode": "overlay",
              "size": 10,
              "solidity": 0.2
             }
            },
            "type": "histogram"
           }
          ],
          "histogram2d": [
           {
            "colorbar": {
             "outlinewidth": 0,
             "ticks": ""
            },
            "colorscale": [
             [
              0,
              "#0d0887"
             ],
             [
              0.1111111111111111,
              "#46039f"
             ],
             [
              0.2222222222222222,
              "#7201a8"
             ],
             [
              0.3333333333333333,
              "#9c179e"
             ],
             [
              0.4444444444444444,
              "#bd3786"
             ],
             [
              0.5555555555555556,
              "#d8576b"
             ],
             [
              0.6666666666666666,
              "#ed7953"
             ],
             [
              0.7777777777777778,
              "#fb9f3a"
             ],
             [
              0.8888888888888888,
              "#fdca26"
             ],
             [
              1,
              "#f0f921"
             ]
            ],
            "type": "histogram2d"
           }
          ],
          "histogram2dcontour": [
           {
            "colorbar": {
             "outlinewidth": 0,
             "ticks": ""
            },
            "colorscale": [
             [
              0,
              "#0d0887"
             ],
             [
              0.1111111111111111,
              "#46039f"
             ],
             [
              0.2222222222222222,
              "#7201a8"
             ],
             [
              0.3333333333333333,
              "#9c179e"
             ],
             [
              0.4444444444444444,
              "#bd3786"
             ],
             [
              0.5555555555555556,
              "#d8576b"
             ],
             [
              0.6666666666666666,
              "#ed7953"
             ],
             [
              0.7777777777777778,
              "#fb9f3a"
             ],
             [
              0.8888888888888888,
              "#fdca26"
             ],
             [
              1,
              "#f0f921"
             ]
            ],
            "type": "histogram2dcontour"
           }
          ],
          "mesh3d": [
           {
            "colorbar": {
             "outlinewidth": 0,
             "ticks": ""
            },
            "type": "mesh3d"
           }
          ],
          "parcoords": [
           {
            "line": {
             "colorbar": {
              "outlinewidth": 0,
              "ticks": ""
             }
            },
            "type": "parcoords"
           }
          ],
          "pie": [
           {
            "automargin": true,
            "type": "pie"
           }
          ],
          "scatter": [
           {
            "fillpattern": {
             "fillmode": "overlay",
             "size": 10,
             "solidity": 0.2
            },
            "type": "scatter"
           }
          ],
          "scatter3d": [
           {
            "line": {
             "colorbar": {
              "outlinewidth": 0,
              "ticks": ""
             }
            },
            "marker": {
             "colorbar": {
              "outlinewidth": 0,
              "ticks": ""
             }
            },
            "type": "scatter3d"
           }
          ],
          "scattercarpet": [
           {
            "marker": {
             "colorbar": {
              "outlinewidth": 0,
              "ticks": ""
             }
            },
            "type": "scattercarpet"
           }
          ],
          "scattergeo": [
           {
            "marker": {
             "colorbar": {
              "outlinewidth": 0,
              "ticks": ""
             }
            },
            "type": "scattergeo"
           }
          ],
          "scattergl": [
           {
            "marker": {
             "colorbar": {
              "outlinewidth": 0,
              "ticks": ""
             }
            },
            "type": "scattergl"
           }
          ],
          "scattermapbox": [
           {
            "marker": {
             "colorbar": {
              "outlinewidth": 0,
              "ticks": ""
             }
            },
            "type": "scattermapbox"
           }
          ],
          "scatterpolar": [
           {
            "marker": {
             "colorbar": {
              "outlinewidth": 0,
              "ticks": ""
             }
            },
            "type": "scatterpolar"
           }
          ],
          "scatterpolargl": [
           {
            "marker": {
             "colorbar": {
              "outlinewidth": 0,
              "ticks": ""
             }
            },
            "type": "scatterpolargl"
           }
          ],
          "scatterternary": [
           {
            "marker": {
             "colorbar": {
              "outlinewidth": 0,
              "ticks": ""
             }
            },
            "type": "scatterternary"
           }
          ],
          "surface": [
           {
            "colorbar": {
             "outlinewidth": 0,
             "ticks": ""
            },
            "colorscale": [
             [
              0,
              "#0d0887"
             ],
             [
              0.1111111111111111,
              "#46039f"
             ],
             [
              0.2222222222222222,
              "#7201a8"
             ],
             [
              0.3333333333333333,
              "#9c179e"
             ],
             [
              0.4444444444444444,
              "#bd3786"
             ],
             [
              0.5555555555555556,
              "#d8576b"
             ],
             [
              0.6666666666666666,
              "#ed7953"
             ],
             [
              0.7777777777777778,
              "#fb9f3a"
             ],
             [
              0.8888888888888888,
              "#fdca26"
             ],
             [
              1,
              "#f0f921"
             ]
            ],
            "type": "surface"
           }
          ],
          "table": [
           {
            "cells": {
             "fill": {
              "color": "#EBF0F8"
             },
             "line": {
              "color": "white"
             }
            },
            "header": {
             "fill": {
              "color": "#C8D4E3"
             },
             "line": {
              "color": "white"
             }
            },
            "type": "table"
           }
          ]
         },
         "layout": {
          "annotationdefaults": {
           "arrowcolor": "#2a3f5f",
           "arrowhead": 0,
           "arrowwidth": 1
          },
          "autotypenumbers": "strict",
          "coloraxis": {
           "colorbar": {
            "outlinewidth": 0,
            "ticks": ""
           }
          },
          "colorscale": {
           "diverging": [
            [
             0,
             "#8e0152"
            ],
            [
             0.1,
             "#c51b7d"
            ],
            [
             0.2,
             "#de77ae"
            ],
            [
             0.3,
             "#f1b6da"
            ],
            [
             0.4,
             "#fde0ef"
            ],
            [
             0.5,
             "#f7f7f7"
            ],
            [
             0.6,
             "#e6f5d0"
            ],
            [
             0.7,
             "#b8e186"
            ],
            [
             0.8,
             "#7fbc41"
            ],
            [
             0.9,
             "#4d9221"
            ],
            [
             1,
             "#276419"
            ]
           ],
           "sequential": [
            [
             0,
             "#0d0887"
            ],
            [
             0.1111111111111111,
             "#46039f"
            ],
            [
             0.2222222222222222,
             "#7201a8"
            ],
            [
             0.3333333333333333,
             "#9c179e"
            ],
            [
             0.4444444444444444,
             "#bd3786"
            ],
            [
             0.5555555555555556,
             "#d8576b"
            ],
            [
             0.6666666666666666,
             "#ed7953"
            ],
            [
             0.7777777777777778,
             "#fb9f3a"
            ],
            [
             0.8888888888888888,
             "#fdca26"
            ],
            [
             1,
             "#f0f921"
            ]
           ],
           "sequentialminus": [
            [
             0,
             "#0d0887"
            ],
            [
             0.1111111111111111,
             "#46039f"
            ],
            [
             0.2222222222222222,
             "#7201a8"
            ],
            [
             0.3333333333333333,
             "#9c179e"
            ],
            [
             0.4444444444444444,
             "#bd3786"
            ],
            [
             0.5555555555555556,
             "#d8576b"
            ],
            [
             0.6666666666666666,
             "#ed7953"
            ],
            [
             0.7777777777777778,
             "#fb9f3a"
            ],
            [
             0.8888888888888888,
             "#fdca26"
            ],
            [
             1,
             "#f0f921"
            ]
           ]
          },
          "colorway": [
           "#636efa",
           "#EF553B",
           "#00cc96",
           "#ab63fa",
           "#FFA15A",
           "#19d3f3",
           "#FF6692",
           "#B6E880",
           "#FF97FF",
           "#FECB52"
          ],
          "font": {
           "color": "#2a3f5f"
          },
          "geo": {
           "bgcolor": "white",
           "lakecolor": "white",
           "landcolor": "#E5ECF6",
           "showlakes": true,
           "showland": true,
           "subunitcolor": "white"
          },
          "hoverlabel": {
           "align": "left"
          },
          "hovermode": "closest",
          "mapbox": {
           "style": "light"
          },
          "paper_bgcolor": "white",
          "plot_bgcolor": "#E5ECF6",
          "polar": {
           "angularaxis": {
            "gridcolor": "white",
            "linecolor": "white",
            "ticks": ""
           },
           "bgcolor": "#E5ECF6",
           "radialaxis": {
            "gridcolor": "white",
            "linecolor": "white",
            "ticks": ""
           }
          },
          "scene": {
           "xaxis": {
            "backgroundcolor": "#E5ECF6",
            "gridcolor": "white",
            "gridwidth": 2,
            "linecolor": "white",
            "showbackground": true,
            "ticks": "",
            "zerolinecolor": "white"
           },
           "yaxis": {
            "backgroundcolor": "#E5ECF6",
            "gridcolor": "white",
            "gridwidth": 2,
            "linecolor": "white",
            "showbackground": true,
            "ticks": "",
            "zerolinecolor": "white"
           },
           "zaxis": {
            "backgroundcolor": "#E5ECF6",
            "gridcolor": "white",
            "gridwidth": 2,
            "linecolor": "white",
            "showbackground": true,
            "ticks": "",
            "zerolinecolor": "white"
           }
          },
          "shapedefaults": {
           "line": {
            "color": "#2a3f5f"
           }
          },
          "ternary": {
           "aaxis": {
            "gridcolor": "white",
            "linecolor": "white",
            "ticks": ""
           },
           "baxis": {
            "gridcolor": "white",
            "linecolor": "white",
            "ticks": ""
           },
           "bgcolor": "#E5ECF6",
           "caxis": {
            "gridcolor": "white",
            "linecolor": "white",
            "ticks": ""
           }
          },
          "title": {
           "x": 0.05
          },
          "xaxis": {
           "automargin": true,
           "gridcolor": "white",
           "linecolor": "white",
           "ticks": "",
           "title": {
            "standoff": 15
           },
           "zerolinecolor": "white",
           "zerolinewidth": 2
          },
          "yaxis": {
           "automargin": true,
           "gridcolor": "white",
           "linecolor": "white",
           "ticks": "",
           "title": {
            "standoff": 15
           },
           "zerolinecolor": "white",
           "zerolinewidth": 2
          }
         }
        },
        "title": {
         "text": "Funnel through months"
        },
        "width": 1000,
        "xaxis": {
         "anchor": "y",
         "domain": [
          0,
          0.235
         ],
         "title": {
          "text": "value"
         }
        },
        "xaxis2": {
         "anchor": "y2",
         "domain": [
          0.255,
          0.49
         ],
         "matches": "x",
         "title": {
          "text": "value"
         }
        },
        "xaxis3": {
         "anchor": "y3",
         "domain": [
          0.51,
          0.745
         ],
         "matches": "x",
         "title": {
          "text": "value"
         }
        },
        "xaxis4": {
         "anchor": "y4",
         "domain": [
          0.7649999999999999,
          0.9999999999999999
         ],
         "matches": "x",
         "title": {
          "text": "value"
         }
        },
        "xaxis5": {
         "anchor": "y5",
         "domain": [
          0,
          0.235
         ],
         "matches": "x",
         "showticklabels": false
        },
        "xaxis6": {
         "anchor": "y6",
         "domain": [
          0.255,
          0.49
         ],
         "matches": "x",
         "showticklabels": false
        },
        "xaxis7": {
         "anchor": "y7",
         "domain": [
          0.51,
          0.745
         ],
         "matches": "x",
         "showticklabels": false
        },
        "xaxis8": {
         "anchor": "y8",
         "domain": [
          0.7649999999999999,
          0.9999999999999999
         ],
         "matches": "x",
         "showticklabels": false
        },
        "yaxis": {
         "anchor": "x",
         "categoryarray": [
          "visits",
          "tenant_that_visited",
          "visited_houses",
          "offers",
          "tenants_that_made_offers",
          "contracts"
         ],
         "categoryorder": "array",
         "domain": [
          0,
          0.45
         ],
         "title": {
          "text": "variable"
         }
        },
        "yaxis2": {
         "anchor": "x2",
         "domain": [
          0,
          0.45
         ],
         "matches": "y",
         "showticklabels": false
        },
        "yaxis3": {
         "anchor": "x3",
         "domain": [
          0,
          0.45
         ],
         "matches": "y",
         "showticklabels": false
        },
        "yaxis4": {
         "anchor": "x4",
         "domain": [
          0,
          0.45
         ],
         "matches": "y",
         "showticklabels": false
        },
        "yaxis5": {
         "anchor": "x5",
         "categoryarray": [
          "visits",
          "tenant_that_visited",
          "visited_houses",
          "offers",
          "tenants_that_made_offers",
          "contracts"
         ],
         "categoryorder": "array",
         "domain": [
          0.55,
          1
         ],
         "matches": "y",
         "title": {
          "text": "variable"
         }
        },
        "yaxis6": {
         "anchor": "x6",
         "domain": [
          0.55,
          1
         ],
         "matches": "y",
         "showticklabels": false
        },
        "yaxis7": {
         "anchor": "x7",
         "domain": [
          0.55,
          1
         ],
         "matches": "y",
         "showticklabels": false
        },
        "yaxis8": {
         "anchor": "x8",
         "domain": [
          0.55,
          1
         ],
         "matches": "y",
         "showticklabels": false
        }
       }
      }
     },
     "metadata": {},
     "output_type": "display_data"
    }
   ],
   "source": [
    "import plotly.express as px\n",
    "\n",
    "fig = px.funnel(\n",
    "    dfvisits_offers_contracts,\n",
    "    x=\"value\",\n",
    "    y=\"variable\",\n",
    "    color=\"variable\",\n",
    "    color_discrete_sequence=px.colors.sequential.Viridis,\n",
    "    category_orders={\"variable\": funnel_cat.categories},\n",
    "    facet_col=\"month\",\n",
    "    facet_col_wrap=4,\n",
    "    facet_row_spacing=0.1,\n",
    "    title='Funnel through months',\n",
    "    width=1000, height=600\n",
    ")\n",
    "fig.for_each_annotation(lambda a: a.update(text=a.text.split(\"=\")[1]))\n",
    "fig.update_layout(legend={'traceorder': 'reversed'})\n",
    "\n",
    "#fig.for_each_trace(lambda t: t.update(name=t.name.split(\"=\")[1]))\n",
    "#fig.show()\n",
    "\n",
    "#from IPython.display import Image\n",
    "#Image(fig.to_image())\n",
    "\n",
    "fig.write_image('images/fig02.png')\n",
    "fig\n"
   ]
  },
  {
   "cell_type": "code",
   "execution_count": 70,
   "metadata": {},
   "outputs": [
    {
     "data": {
      "image/png": "[encoded data removed]",
      "text/plain": [
       "<Figure size 1080x432 with 1 Axes>"
      ]
     },
     "metadata": {},
     "output_type": "display_data"
    }
   ],
   "source": [
    "# dfvisits_offers_contracts\n",
    "from plot_corr import plot_corr\n",
    "fig, ax = plt.subplots(figsize=(15, 6))\n",
    "# plot1\n",
    "dfvisits_offers_contracts_raw.set_index('month').plot.area(ax=ax, title='Funnel through months', stacked=False, alpha=1, cmap='viridis')\n",
    "\n",
    "plt.savefig('images/fig03.png')\n"
   ]
  },
  {
   "cell_type": "code",
   "execution_count": 68,
   "metadata": {},
   "outputs": [
    {
     "data": {
      "image/png": "[encoded data removed]",
      "text/plain": [
       "<Figure size 720x432 with 2 Axes>"
      ]
     },
     "metadata": {},
     "output_type": "display_data"
    }
   ],
   "source": [
    "# dfvisits_offers_contracts\n",
    "from plot_corr import plot_corr\n",
    "\n",
    "fig, ax = plt.subplots()\n",
    "\n",
    "plot_corr(dfvisits_offers_contracts_raw, ax=ax)\n",
    "ax.set_title('Linear correlations')\n",
    "\n",
    "plt.savefig('images/fig04.png')"
   ]
  },
  {
   "cell_type": "markdown",
   "metadata": {},
   "source": [
    "## Review dos inquilinos"
   ]
  },
  {
   "cell_type": "code",
   "execution_count": 74,
   "metadata": {},
   "outputs": [
    {
     "data": {
      "image/png": "[encoded data removed]",
      "text/plain": [
       "<Figure size 1080x432 with 2 Axes>"
      ]
     },
     "metadata": {},
     "output_type": "display_data"
    }
   ],
   "source": [
    "month = pd.Grouper(key='visit_date', freq='1M')\n",
    "\n",
    "# dftenant_reviews\n",
    "fig,axs=plt.subplots(ncols=2,figsize=(15,6))\n",
    "\n",
    "#plot1\n",
    "ax=axs[0]\n",
    "dftenant_reviews.groupby(month)['total'].sum().plot(title=\"Number of reviews per month\", ax=ax)\n",
    "#dftenant_reviews.groupby(month).house_id.nunique().plot(label='unique houses', ax=ax)\n",
    "#ax.legend()\n",
    "\n",
    "#plot2\n",
    "reviews_per_month = dftenant_reviews.groupby(month)[dummies+['total']]\n",
    "(reviews_per_month.mean()* 100).iloc[:, :-1].plot.area(cmap='viridis', title='Distributon of reviews per month', ax=axs[1])\n",
    "\n",
    "#display(reviews_per_month.agg(lambda x: (x.sum(),x.mean())).pipe(lambda x, fmt: x.set_index(x.index.strftime(fmt)), \"%Y-%m\").T.style.format(fmtr))\n",
    "\n",
    "# tabela numero de reviews por mes por tipo de review\n",
    "# (\n",
    "#     dftenant_reviews.groupby(\n",
    "#         [pd.Grouper(key=\"visit_date\", freq=\"1M\"), \"review\"], dropna=True\n",
    "#     )[\"total\"]\n",
    "#     .count()\n",
    "#     .unstack(1)\n",
    "#     .rename_axis(columns=\"reviews por mes\")\n",
    "#     .pipe(lambda x: x.set_axis(x.index.strftime(\"%b\"), axis=0))\n",
    "# )\n",
    "\n",
    "plt.savefig('images/fig05.png')"
   ]
  },
  {
   "cell_type": "markdown",
   "metadata": {},
   "source": [
    "## Tenant's opinions"
   ]
  },
  {
   "cell_type": "code",
   "execution_count": 12,
   "metadata": {},
   "outputs": [
    {
     "data": {
      "text/html": [
       "<style type=\"text/css\">\n",
       "</style>\n",
       "<table id=\"T_9f5ac\">\n",
       "  <thead>\n",
       "    <tr>\n",
       "      <th class=\"index_name level0\" >review</th>\n",
       "      <th id=\"T_9f5ac_level0_col0\" class=\"col_heading level0 col0\" >Visita não aconteceu.</th>\n",
       "      <th id=\"T_9f5ac_level0_col1\" class=\"col_heading level0 col1\" >1</th>\n",
       "      <th id=\"T_9f5ac_level0_col2\" class=\"col_heading level0 col2\" >2</th>\n",
       "      <th id=\"T_9f5ac_level0_col3\" class=\"col_heading level0 col3\" >3</th>\n",
       "      <th id=\"T_9f5ac_level0_col4\" class=\"col_heading level0 col4\" >4</th>\n",
       "      <th id=\"T_9f5ac_level0_col5\" class=\"col_heading level0 col5\" >5</th>\n",
       "      <th id=\"T_9f5ac_level0_col6\" class=\"col_heading level0 col6\" >VaiNegociar</th>\n",
       "    </tr>\n",
       "    <tr>\n",
       "      <th class=\"index_name level0\" >positive opinions (liked the ...)</th>\n",
       "      <th class=\"blank col0\" >&nbsp;</th>\n",
       "      <th class=\"blank col1\" >&nbsp;</th>\n",
       "      <th class=\"blank col2\" >&nbsp;</th>\n",
       "      <th class=\"blank col3\" >&nbsp;</th>\n",
       "      <th class=\"blank col4\" >&nbsp;</th>\n",
       "      <th class=\"blank col5\" >&nbsp;</th>\n",
       "      <th class=\"blank col6\" >&nbsp;</th>\n",
       "    </tr>\n",
       "  </thead>\n",
       "  <tbody>\n",
       "    <tr>\n",
       "      <th id=\"T_9f5ac_level0_row0\" class=\"row_heading level0 row0\" >building</th>\n",
       "      <td id=\"T_9f5ac_row0_col0\" class=\"data row0 col0\" >0 (0%)</td>\n",
       "      <td id=\"T_9f5ac_row0_col1\" class=\"data row0 col1\" >0 (0%)</td>\n",
       "      <td id=\"T_9f5ac_row0_col2\" class=\"data row0 col2\" >0 (0%)</td>\n",
       "      <td id=\"T_9f5ac_row0_col3\" class=\"data row0 col3\" >0 (0%)</td>\n",
       "      <td id=\"T_9f5ac_row0_col4\" class=\"data row0 col4\" >0 (0%)</td>\n",
       "      <td id=\"T_9f5ac_row0_col5\" class=\"data row0 col5\" >2839 (50%)</td>\n",
       "      <td id=\"T_9f5ac_row0_col6\" class=\"data row0 col6\" >0 (0%)</td>\n",
       "    </tr>\n",
       "    <tr>\n",
       "      <th id=\"T_9f5ac_level0_row1\" class=\"row_heading level0 row1\" >conservation</th>\n",
       "      <td id=\"T_9f5ac_row1_col0\" class=\"data row1 col0\" >0 (0%)</td>\n",
       "      <td id=\"T_9f5ac_row1_col1\" class=\"data row1 col1\" >0 (0%)</td>\n",
       "      <td id=\"T_9f5ac_row1_col2\" class=\"data row1 col2\" >0 (0%)</td>\n",
       "      <td id=\"T_9f5ac_row1_col3\" class=\"data row1 col3\" >0 (0%)</td>\n",
       "      <td id=\"T_9f5ac_row1_col4\" class=\"data row1 col4\" >0 (0%)</td>\n",
       "      <td id=\"T_9f5ac_row1_col5\" class=\"data row1 col5\" >3609 (64%)</td>\n",
       "      <td id=\"T_9f5ac_row1_col6\" class=\"data row1 col6\" >6 (20%)</td>\n",
       "    </tr>\n",
       "    <tr>\n",
       "      <th id=\"T_9f5ac_level0_row2\" class=\"row_heading level0 row2\" >size</th>\n",
       "      <td id=\"T_9f5ac_row2_col0\" class=\"data row2 col0\" >0 (0%)</td>\n",
       "      <td id=\"T_9f5ac_row2_col1\" class=\"data row2 col1\" >0 (0%)</td>\n",
       "      <td id=\"T_9f5ac_row2_col2\" class=\"data row2 col2\" >0 (0%)</td>\n",
       "      <td id=\"T_9f5ac_row2_col3\" class=\"data row2 col3\" >0 (0%)</td>\n",
       "      <td id=\"T_9f5ac_row2_col4\" class=\"data row2 col4\" >0 (0%)</td>\n",
       "      <td id=\"T_9f5ac_row2_col5\" class=\"data row2 col5\" >3581 (63%)</td>\n",
       "      <td id=\"T_9f5ac_row2_col6\" class=\"data row2 col6\" >9 (30%)</td>\n",
       "    </tr>\n",
       "    <tr>\n",
       "      <th id=\"T_9f5ac_level0_row3\" class=\"row_heading level0 row3\" >price</th>\n",
       "      <td id=\"T_9f5ac_row3_col0\" class=\"data row3 col0\" >0 (0%)</td>\n",
       "      <td id=\"T_9f5ac_row3_col1\" class=\"data row3 col1\" >0 (0%)</td>\n",
       "      <td id=\"T_9f5ac_row3_col2\" class=\"data row3 col2\" >0 (0%)</td>\n",
       "      <td id=\"T_9f5ac_row3_col3\" class=\"data row3 col3\" >0 (0%)</td>\n",
       "      <td id=\"T_9f5ac_row3_col4\" class=\"data row3 col4\" >0 (0%)</td>\n",
       "      <td id=\"T_9f5ac_row3_col5\" class=\"data row3 col5\" >2477 (44%)</td>\n",
       "      <td id=\"T_9f5ac_row3_col6\" class=\"data row3 col6\" >12 (40%)</td>\n",
       "    </tr>\n",
       "    <tr>\n",
       "      <th id=\"T_9f5ac_level0_row4\" class=\"row_heading level0 row4\" >location</th>\n",
       "      <td id=\"T_9f5ac_row4_col0\" class=\"data row4 col0\" >0 (0%)</td>\n",
       "      <td id=\"T_9f5ac_row4_col1\" class=\"data row4 col1\" >0 (0%)</td>\n",
       "      <td id=\"T_9f5ac_row4_col2\" class=\"data row4 col2\" >0 (0%)</td>\n",
       "      <td id=\"T_9f5ac_row4_col3\" class=\"data row4 col3\" >0 (0%)</td>\n",
       "      <td id=\"T_9f5ac_row4_col4\" class=\"data row4 col4\" >0 (0%)</td>\n",
       "      <td id=\"T_9f5ac_row4_col5\" class=\"data row4 col5\" >4514 (80%)</td>\n",
       "      <td id=\"T_9f5ac_row4_col6\" class=\"data row4 col6\" >11 (37%)</td>\n",
       "    </tr>\n",
       "    <tr>\n",
       "      <th id=\"T_9f5ac_level0_row5\" class=\"row_heading level0 row5\" >total</th>\n",
       "      <td id=\"T_9f5ac_row5_col0\" class=\"data row5 col0\" >3302 (100%)</td>\n",
       "      <td id=\"T_9f5ac_row5_col1\" class=\"data row5 col1\" >364 (100%)</td>\n",
       "      <td id=\"T_9f5ac_row5_col2\" class=\"data row5 col2\" >635 (100%)</td>\n",
       "      <td id=\"T_9f5ac_row5_col3\" class=\"data row5 col3\" >1416 (100%)</td>\n",
       "      <td id=\"T_9f5ac_row5_col4\" class=\"data row5 col4\" >2050 (100%)</td>\n",
       "      <td id=\"T_9f5ac_row5_col5\" class=\"data row5 col5\" >5673 (100%)</td>\n",
       "      <td id=\"T_9f5ac_row5_col6\" class=\"data row5 col6\" >30 (100%)</td>\n",
       "    </tr>\n",
       "  </tbody>\n",
       "</table>\n"
      ],
      "text/plain": [
       "<pandas.io.formats.style.Styler at 0x27bbf82ce50>"
      ]
     },
     "metadata": {},
     "output_type": "display_data"
    },
    {
     "data": {
      "text/html": [
       "<style type=\"text/css\">\n",
       "</style>\n",
       "<table id=\"T_863f5\">\n",
       "  <thead>\n",
       "    <tr>\n",
       "      <th class=\"index_name level0\" >visit_date_ym</th>\n",
       "      <th id=\"T_863f5_level0_col0\" class=\"col_heading level0 col0\" >Dec</th>\n",
       "      <th id=\"T_863f5_level0_col1\" class=\"col_heading level0 col1\" >Jan</th>\n",
       "      <th id=\"T_863f5_level0_col2\" class=\"col_heading level0 col2\" >Feb</th>\n",
       "      <th id=\"T_863f5_level0_col3\" class=\"col_heading level0 col3\" >Mar</th>\n",
       "      <th id=\"T_863f5_level0_col4\" class=\"col_heading level0 col4\" >Apr</th>\n",
       "      <th id=\"T_863f5_level0_col5\" class=\"col_heading level0 col5\" >May</th>\n",
       "      <th id=\"T_863f5_level0_col6\" class=\"col_heading level0 col6\" >Jun</th>\n",
       "      <th id=\"T_863f5_level0_col7\" class=\"col_heading level0 col7\" >Jul</th>\n",
       "      <th id=\"T_863f5_level0_col8\" class=\"col_heading level0 col8\" >Aug</th>\n",
       "    </tr>\n",
       "    <tr>\n",
       "      <th class=\"index_name level0\" >positive opinions per month</th>\n",
       "      <th class=\"blank col0\" >&nbsp;</th>\n",
       "      <th class=\"blank col1\" >&nbsp;</th>\n",
       "      <th class=\"blank col2\" >&nbsp;</th>\n",
       "      <th class=\"blank col3\" >&nbsp;</th>\n",
       "      <th class=\"blank col4\" >&nbsp;</th>\n",
       "      <th class=\"blank col5\" >&nbsp;</th>\n",
       "      <th class=\"blank col6\" >&nbsp;</th>\n",
       "      <th class=\"blank col7\" >&nbsp;</th>\n",
       "      <th class=\"blank col8\" >&nbsp;</th>\n",
       "    </tr>\n",
       "  </thead>\n",
       "  <tbody>\n",
       "    <tr>\n",
       "      <th id=\"T_863f5_level0_row0\" class=\"row_heading level0 row0\" >building</th>\n",
       "      <td id=\"T_863f5_row0_col0\" class=\"data row0 col0\" >0 (0%)</td>\n",
       "      <td id=\"T_863f5_row0_col1\" class=\"data row0 col1\" >253 (20%)</td>\n",
       "      <td id=\"T_863f5_row0_col2\" class=\"data row0 col2\" >275 (22%)</td>\n",
       "      <td id=\"T_863f5_row0_col3\" class=\"data row0 col3\" >346 (21%)</td>\n",
       "      <td id=\"T_863f5_row0_col4\" class=\"data row0 col4\" >286 (20%)</td>\n",
       "      <td id=\"T_863f5_row0_col5\" class=\"data row0 col5\" >254 (20%)</td>\n",
       "      <td id=\"T_863f5_row0_col6\" class=\"data row0 col6\" >381 (21%)</td>\n",
       "      <td id=\"T_863f5_row0_col7\" class=\"data row0 col7\" >431 (21%)</td>\n",
       "      <td id=\"T_863f5_row0_col8\" class=\"data row0 col8\" >613 (22%)</td>\n",
       "    </tr>\n",
       "    <tr>\n",
       "      <th id=\"T_863f5_level0_row1\" class=\"row_heading level0 row1\" >conservation</th>\n",
       "      <td id=\"T_863f5_row1_col0\" class=\"data row1 col0\" >0 (0%)</td>\n",
       "      <td id=\"T_863f5_row1_col1\" class=\"data row1 col1\" >300 (24%)</td>\n",
       "      <td id=\"T_863f5_row1_col2\" class=\"data row1 col2\" >335 (27%)</td>\n",
       "      <td id=\"T_863f5_row1_col3\" class=\"data row1 col3\" >449 (27%)</td>\n",
       "      <td id=\"T_863f5_row1_col4\" class=\"data row1 col4\" >356 (25%)</td>\n",
       "      <td id=\"T_863f5_row1_col5\" class=\"data row1 col5\" >339 (26%)</td>\n",
       "      <td id=\"T_863f5_row1_col6\" class=\"data row1 col6\" >487 (27%)</td>\n",
       "      <td id=\"T_863f5_row1_col7\" class=\"data row1 col7\" >553 (26%)</td>\n",
       "      <td id=\"T_863f5_row1_col8\" class=\"data row1 col8\" >796 (29%)</td>\n",
       "    </tr>\n",
       "    <tr>\n",
       "      <th id=\"T_863f5_level0_row2\" class=\"row_heading level0 row2\" >size</th>\n",
       "      <td id=\"T_863f5_row2_col0\" class=\"data row2 col0\" >0 (0%)</td>\n",
       "      <td id=\"T_863f5_row2_col1\" class=\"data row2 col1\" >303 (24%)</td>\n",
       "      <td id=\"T_863f5_row2_col2\" class=\"data row2 col2\" >336 (27%)</td>\n",
       "      <td id=\"T_863f5_row2_col3\" class=\"data row2 col3\" >468 (28%)</td>\n",
       "      <td id=\"T_863f5_row2_col4\" class=\"data row2 col4\" >365 (26%)</td>\n",
       "      <td id=\"T_863f5_row2_col5\" class=\"data row2 col5\" >334 (26%)</td>\n",
       "      <td id=\"T_863f5_row2_col6\" class=\"data row2 col6\" >473 (26%)</td>\n",
       "      <td id=\"T_863f5_row2_col7\" class=\"data row2 col7\" >542 (26%)</td>\n",
       "      <td id=\"T_863f5_row2_col8\" class=\"data row2 col8\" >769 (28%)</td>\n",
       "    </tr>\n",
       "    <tr>\n",
       "      <th id=\"T_863f5_level0_row3\" class=\"row_heading level0 row3\" >price</th>\n",
       "      <td id=\"T_863f5_row3_col0\" class=\"data row3 col0\" >1 (25%)</td>\n",
       "      <td id=\"T_863f5_row3_col1\" class=\"data row3 col1\" >225 (18%)</td>\n",
       "      <td id=\"T_863f5_row3_col2\" class=\"data row3 col2\" >224 (18%)</td>\n",
       "      <td id=\"T_863f5_row3_col3\" class=\"data row3 col3\" >307 (18%)</td>\n",
       "      <td id=\"T_863f5_row3_col4\" class=\"data row3 col4\" >244 (17%)</td>\n",
       "      <td id=\"T_863f5_row3_col5\" class=\"data row3 col5\" >227 (18%)</td>\n",
       "      <td id=\"T_863f5_row3_col6\" class=\"data row3 col6\" >316 (18%)</td>\n",
       "      <td id=\"T_863f5_row3_col7\" class=\"data row3 col7\" >382 (18%)</td>\n",
       "      <td id=\"T_863f5_row3_col8\" class=\"data row3 col8\" >563 (21%)</td>\n",
       "    </tr>\n",
       "    <tr>\n",
       "      <th id=\"T_863f5_level0_row4\" class=\"row_heading level0 row4\" >location</th>\n",
       "      <td id=\"T_863f5_row4_col0\" class=\"data row4 col0\" >1 (25%)</td>\n",
       "      <td id=\"T_863f5_row4_col1\" class=\"data row4 col1\" >393 (31%)</td>\n",
       "      <td id=\"T_863f5_row4_col2\" class=\"data row4 col2\" >418 (34%)</td>\n",
       "      <td id=\"T_863f5_row4_col3\" class=\"data row4 col3\" >584 (35%)</td>\n",
       "      <td id=\"T_863f5_row4_col4\" class=\"data row4 col4\" >467 (33%)</td>\n",
       "      <td id=\"T_863f5_row4_col5\" class=\"data row4 col5\" >393 (31%)</td>\n",
       "      <td id=\"T_863f5_row4_col6\" class=\"data row4 col6\" >621 (35%)</td>\n",
       "      <td id=\"T_863f5_row4_col7\" class=\"data row4 col7\" >690 (33%)</td>\n",
       "      <td id=\"T_863f5_row4_col8\" class=\"data row4 col8\" >958 (35%)</td>\n",
       "    </tr>\n",
       "    <tr>\n",
       "      <th id=\"T_863f5_level0_row5\" class=\"row_heading level0 row5\" >total</th>\n",
       "      <td id=\"T_863f5_row5_col0\" class=\"data row5 col0\" >4 (100%)</td>\n",
       "      <td id=\"T_863f5_row5_col1\" class=\"data row5 col1\" >1250 (100%)</td>\n",
       "      <td id=\"T_863f5_row5_col2\" class=\"data row5 col2\" >1237 (100%)</td>\n",
       "      <td id=\"T_863f5_row5_col3\" class=\"data row5 col3\" >1669 (100%)</td>\n",
       "      <td id=\"T_863f5_row5_col4\" class=\"data row5 col4\" >1412 (100%)</td>\n",
       "      <td id=\"T_863f5_row5_col5\" class=\"data row5 col5\" >1284 (100%)</td>\n",
       "      <td id=\"T_863f5_row5_col6\" class=\"data row5 col6\" >1794 (100%)</td>\n",
       "      <td id=\"T_863f5_row5_col7\" class=\"data row5 col7\" >2092 (100%)</td>\n",
       "      <td id=\"T_863f5_row5_col8\" class=\"data row5 col8\" >2728 (100%)</td>\n",
       "    </tr>\n",
       "  </tbody>\n",
       "</table>\n"
      ],
      "text/plain": [
       "<pandas.io.formats.style.Styler at 0x27bbf82ce50>"
      ]
     },
     "metadata": {},
     "output_type": "display_data"
    }
   ],
   "source": [
    "# positive opinions\n",
    "flags_per_review = dftenant_reviews.groupby('review')[flags].agg(lambda x: (x.sum(),x.mean())).T\n",
    "display(flags_per_review.rename_axis(index='positive opinions (liked the ...)').style.format(fmtr))\n",
    "\n",
    "flags_per_review = dftenant_reviews.groupby('visit_date_ym', sort=False)[flags].agg(lambda x: (x.sum(),x.mean())).T\n",
    "display(flags_per_review.rename_axis(index='positive opinions per month').style.format(fmtr))"
   ]
  },
  {
   "cell_type": "code",
   "execution_count": 13,
   "metadata": {},
   "outputs": [
    {
     "data": {
      "text/html": [
       "<style type=\"text/css\">\n",
       "</style>\n",
       "<table id=\"T_cc53d\">\n",
       "  <thead>\n",
       "    <tr>\n",
       "      <th class=\"index_name level0\" >review</th>\n",
       "      <th id=\"T_cc53d_level0_col0\" class=\"col_heading level0 col0\" >Visita não aconteceu.</th>\n",
       "      <th id=\"T_cc53d_level0_col1\" class=\"col_heading level0 col1\" >1</th>\n",
       "      <th id=\"T_cc53d_level0_col2\" class=\"col_heading level0 col2\" >2</th>\n",
       "      <th id=\"T_cc53d_level0_col3\" class=\"col_heading level0 col3\" >3</th>\n",
       "      <th id=\"T_cc53d_level0_col4\" class=\"col_heading level0 col4\" >4</th>\n",
       "      <th id=\"T_cc53d_level0_col5\" class=\"col_heading level0 col5\" >5</th>\n",
       "      <th id=\"T_cc53d_level0_col6\" class=\"col_heading level0 col6\" >VaiNegociar</th>\n",
       "    </tr>\n",
       "    <tr>\n",
       "      <th class=\"index_name level0\" >Negative opinions</th>\n",
       "      <th class=\"blank col0\" >&nbsp;</th>\n",
       "      <th class=\"blank col1\" >&nbsp;</th>\n",
       "      <th class=\"blank col2\" >&nbsp;</th>\n",
       "      <th class=\"blank col3\" >&nbsp;</th>\n",
       "      <th class=\"blank col4\" >&nbsp;</th>\n",
       "      <th class=\"blank col5\" >&nbsp;</th>\n",
       "      <th class=\"blank col6\" >&nbsp;</th>\n",
       "    </tr>\n",
       "  </thead>\n",
       "  <tbody>\n",
       "    <tr>\n",
       "      <th id=\"T_cc53d_level0_row0\" class=\"row_heading level0 row0\" >did_not_like_the_location</th>\n",
       "      <td id=\"T_cc53d_row0_col0\" class=\"data row0 col0\" >1 (0%)</td>\n",
       "      <td id=\"T_cc53d_row0_col1\" class=\"data row0 col1\" >64 (18%)</td>\n",
       "      <td id=\"T_cc53d_row0_col2\" class=\"data row0 col2\" >118 (19%)</td>\n",
       "      <td id=\"T_cc53d_row0_col3\" class=\"data row0 col3\" >226 (16%)</td>\n",
       "      <td id=\"T_cc53d_row0_col4\" class=\"data row0 col4\" >298 (15%)</td>\n",
       "      <td id=\"T_cc53d_row0_col5\" class=\"data row0 col5\" >0 (0%)</td>\n",
       "      <td id=\"T_cc53d_row0_col6\" class=\"data row0 col6\" >3 (10%)</td>\n",
       "    </tr>\n",
       "    <tr>\n",
       "      <th id=\"T_cc53d_level0_row1\" class=\"row_heading level0 row1\" >expected_a_better_preserved_property</th>\n",
       "      <td id=\"T_cc53d_row1_col0\" class=\"data row1 col0\" >0 (0%)</td>\n",
       "      <td id=\"T_cc53d_row1_col1\" class=\"data row1 col1\" >236 (65%)</td>\n",
       "      <td id=\"T_cc53d_row1_col2\" class=\"data row1 col2\" >376 (59%)</td>\n",
       "      <td id=\"T_cc53d_row1_col3\" class=\"data row1 col3\" >720 (51%)</td>\n",
       "      <td id=\"T_cc53d_row1_col4\" class=\"data row1 col4\" >743 (36%)</td>\n",
       "      <td id=\"T_cc53d_row1_col5\" class=\"data row1 col5\" >0 (0%)</td>\n",
       "      <td id=\"T_cc53d_row1_col6\" class=\"data row1 col6\" >2 (7%)</td>\n",
       "    </tr>\n",
       "    <tr>\n",
       "      <th id=\"T_cc53d_level0_row2\" class=\"row_heading level0 row2\" >bigger_in_photos</th>\n",
       "      <td id=\"T_cc53d_row2_col0\" class=\"data row2 col0\" >0 (0%)</td>\n",
       "      <td id=\"T_cc53d_row2_col1\" class=\"data row2 col1\" >92 (25%)</td>\n",
       "      <td id=\"T_cc53d_row2_col2\" class=\"data row2 col2\" >210 (33%)</td>\n",
       "      <td id=\"T_cc53d_row2_col3\" class=\"data row2 col3\" >468 (33%)</td>\n",
       "      <td id=\"T_cc53d_row2_col4\" class=\"data row2 col4\" >678 (33%)</td>\n",
       "      <td id=\"T_cc53d_row2_col5\" class=\"data row2 col5\" >0 (0%)</td>\n",
       "      <td id=\"T_cc53d_row2_col6\" class=\"data row2 col6\" >10 (33%)</td>\n",
       "    </tr>\n",
       "    <tr>\n",
       "      <th id=\"T_cc53d_level0_row3\" class=\"row_heading level0 row3\" >different_from_the_listing</th>\n",
       "      <td id=\"T_cc53d_row3_col0\" class=\"data row3 col0\" >0 (0%)</td>\n",
       "      <td id=\"T_cc53d_row3_col1\" class=\"data row3 col1\" >96 (26%)</td>\n",
       "      <td id=\"T_cc53d_row3_col2\" class=\"data row3 col2\" >79 (12%)</td>\n",
       "      <td id=\"T_cc53d_row3_col3\" class=\"data row3 col3\" >93 (7%)</td>\n",
       "      <td id=\"T_cc53d_row3_col4\" class=\"data row3 col4\" >38 (2%)</td>\n",
       "      <td id=\"T_cc53d_row3_col5\" class=\"data row3 col5\" >0 (0%)</td>\n",
       "      <td id=\"T_cc53d_row3_col6\" class=\"data row3 col6\" >2 (7%)</td>\n",
       "    </tr>\n",
       "    <tr>\n",
       "      <th id=\"T_cc53d_level0_row4\" class=\"row_heading level0 row4\" >total</th>\n",
       "      <td id=\"T_cc53d_row4_col0\" class=\"data row4 col0\" >3302 (100%)</td>\n",
       "      <td id=\"T_cc53d_row4_col1\" class=\"data row4 col1\" >364 (100%)</td>\n",
       "      <td id=\"T_cc53d_row4_col2\" class=\"data row4 col2\" >635 (100%)</td>\n",
       "      <td id=\"T_cc53d_row4_col3\" class=\"data row4 col3\" >1416 (100%)</td>\n",
       "      <td id=\"T_cc53d_row4_col4\" class=\"data row4 col4\" >2050 (100%)</td>\n",
       "      <td id=\"T_cc53d_row4_col5\" class=\"data row4 col5\" >5673 (100%)</td>\n",
       "      <td id=\"T_cc53d_row4_col6\" class=\"data row4 col6\" >30 (100%)</td>\n",
       "    </tr>\n",
       "  </tbody>\n",
       "</table>\n"
      ],
      "text/plain": [
       "<pandas.io.formats.style.Styler at 0x27bc1c52f10>"
      ]
     },
     "metadata": {},
     "output_type": "display_data"
    }
   ],
   "source": [
    "# negative opinions\n",
    "#dftenant_reviews.groupby('review')[flags].apply(lambda x: x.sum().astype(str) + \" (\" + (x.mean()*100).round(0).astype(str)+\"%)\").T\n",
    "neg_flags_per_review = dftenant_reviews.groupby('review')[neg_flags].agg(lambda x: (x.sum(),x.mean())).T\n",
    "display(neg_flags_per_review.rename_axis(index='Negative opinions').style.format(fmtr))\n"
   ]
  },
  {
   "cell_type": "code",
   "execution_count": 71,
   "metadata": {},
   "outputs": [
    {
     "data": {
      "image/png": "[encoded data removed]",
      "text/plain": [
       "<Figure size 720x432 with 1 Axes>"
      ]
     },
     "metadata": {},
     "output_type": "display_data"
    }
   ],
   "source": [
    "# negative opinions per month\n",
    "neg_opn_per_month = dftenant_reviews.groupby('visit_date_ym', sort=False)[neg_flags[:-1]].mean()\n",
    "neg_opn_per_month.plot(title=\"Proportion of negative opinions per month\")\n",
    "plt.savefig('images/fig06.png')"
   ]
  },
  {
   "cell_type": "code",
   "execution_count": 15,
   "metadata": {},
   "outputs": [
    {
     "data": {
      "text/html": [
       "<div>\n",
       "<style scoped>\n",
       "    .dataframe tbody tr th:only-of-type {\n",
       "        vertical-align: middle;\n",
       "    }\n",
       "\n",
       "    .dataframe tbody tr th {\n",
       "        vertical-align: top;\n",
       "    }\n",
       "\n",
       "    .dataframe thead tr th {\n",
       "        text-align: left;\n",
       "    }\n",
       "\n",
       "    .dataframe thead tr:last-of-type th {\n",
       "        text-align: right;\n",
       "    }\n",
       "</style>\n",
       "<table border=\"1\" class=\"dataframe\">\n",
       "  <thead>\n",
       "    <tr>\n",
       "      <th></th>\n",
       "      <th colspan=\"3\" halign=\"left\">sum_neg_opn</th>\n",
       "    </tr>\n",
       "    <tr>\n",
       "      <th></th>\n",
       "      <th>mean</th>\n",
       "      <th>sum</th>\n",
       "      <th>count</th>\n",
       "    </tr>\n",
       "    <tr>\n",
       "      <th>review</th>\n",
       "      <th></th>\n",
       "      <th></th>\n",
       "      <th></th>\n",
       "    </tr>\n",
       "  </thead>\n",
       "  <tbody>\n",
       "    <tr>\n",
       "      <th>Visita não aconteceu.</th>\n",
       "      <td>0.000303</td>\n",
       "      <td>1</td>\n",
       "      <td>3302</td>\n",
       "    </tr>\n",
       "    <tr>\n",
       "      <th>1</th>\n",
       "      <td>1.340659</td>\n",
       "      <td>488</td>\n",
       "      <td>364</td>\n",
       "    </tr>\n",
       "    <tr>\n",
       "      <th>2</th>\n",
       "      <td>1.233071</td>\n",
       "      <td>783</td>\n",
       "      <td>635</td>\n",
       "    </tr>\n",
       "    <tr>\n",
       "      <th>3</th>\n",
       "      <td>1.064266</td>\n",
       "      <td>1507</td>\n",
       "      <td>1416</td>\n",
       "    </tr>\n",
       "    <tr>\n",
       "      <th>4</th>\n",
       "      <td>0.857073</td>\n",
       "      <td>1757</td>\n",
       "      <td>2050</td>\n",
       "    </tr>\n",
       "    <tr>\n",
       "      <th>5</th>\n",
       "      <td>0.000000</td>\n",
       "      <td>0</td>\n",
       "      <td>5673</td>\n",
       "    </tr>\n",
       "    <tr>\n",
       "      <th>VaiNegociar</th>\n",
       "      <td>0.566667</td>\n",
       "      <td>17</td>\n",
       "      <td>30</td>\n",
       "    </tr>\n",
       "  </tbody>\n",
       "</table>\n",
       "</div>"
      ],
      "text/plain": [
       "                      sum_neg_opn            \n",
       "                             mean   sum count\n",
       "review                                       \n",
       "Visita não aconteceu.    0.000303     1  3302\n",
       "1                        1.340659   488   364\n",
       "2                        1.233071   783   635\n",
       "3                        1.064266  1507  1416\n",
       "4                        0.857073  1757  2050\n",
       "5                        0.000000     0  5673\n",
       "VaiNegociar              0.566667    17    30"
      ]
     },
     "execution_count": 15,
     "metadata": {},
     "output_type": "execute_result"
    }
   ],
   "source": [
    "# alguma review negativa?\n",
    "dftenant_reviews['sum_neg_opn'] = dftenant_reviews[neg_flags[:-1]].sum(axis=1)\n",
    "\n",
    "dftenant_reviews.groupby('review')[['sum_neg_opn']].agg(['mean','sum', 'count'])"
   ]
  },
  {
   "cell_type": "markdown",
   "metadata": {},
   "source": [
    "## Review changes with visit time?"
   ]
  },
  {
   "cell_type": "code",
   "execution_count": 16,
   "metadata": {},
   "outputs": [
    {
     "data": {
      "image/png": "[encoded data removed]",
      "text/plain": [
       "<Figure size 1152x432 with 1 Axes>"
      ]
     },
     "metadata": {
      "needs_background": "light"
     },
     "output_type": "display_data"
    }
   ],
   "source": [
    "# horario da visita vs review\n",
    "from datetime import time\n",
    "\n",
    "#x = pd.Series(range(dftenant_reviews.time.size), index=pd.to_datetime(dftenant_reviews.time).dt.time)\n",
    "\n",
    "\n",
    "dftenant_reviews['timeh'] = pd.to_datetime(dftenant_reviews.time).pipe(lambda x: x-x.dt.normalize()).astype('timedelta64[h]')\n",
    "\n",
    "fig, ax = plt.subplots(figsize=(16,6))\n",
    "\n",
    "dftenant_reviews.groupby('review').timeh.plot.kde(alpha=0.3, ax=ax, title='Time of day distribuition per review')\n",
    "\n",
    "ax.legend()\n",
    "plt.show()\n"
   ]
  },
  {
   "cell_type": "code",
   "execution_count": 73,
   "metadata": {},
   "outputs": [
    {
     "data": {
      "image/png": "[encoded data removed]",
      "text/plain": [
       "<Figure size 720x432 with 1 Axes>"
      ]
     },
     "metadata": {},
     "output_type": "display_data"
    },
    {
     "data": {
      "text/html": [
       "<div>\n",
       "<style scoped>\n",
       "    .dataframe tbody tr th:only-of-type {\n",
       "        vertical-align: middle;\n",
       "    }\n",
       "\n",
       "    .dataframe tbody tr th {\n",
       "        vertical-align: top;\n",
       "    }\n",
       "\n",
       "    .dataframe thead th {\n",
       "        text-align: right;\n",
       "    }\n",
       "</style>\n",
       "<table border=\"1\" class=\"dataframe\">\n",
       "  <thead>\n",
       "    <tr style=\"text-align: right;\">\n",
       "      <th></th>\n",
       "      <th>min</th>\n",
       "      <th>mean</th>\n",
       "      <th>median</th>\n",
       "      <th>percentile_75</th>\n",
       "      <th>percentile_95</th>\n",
       "      <th>percentile_99</th>\n",
       "      <th>max</th>\n",
       "    </tr>\n",
       "    <tr>\n",
       "      <th>visit_date</th>\n",
       "      <th></th>\n",
       "      <th></th>\n",
       "      <th></th>\n",
       "      <th></th>\n",
       "      <th></th>\n",
       "      <th></th>\n",
       "      <th></th>\n",
       "    </tr>\n",
       "  </thead>\n",
       "  <tbody>\n",
       "    <tr>\n",
       "      <th>2017-12-31</th>\n",
       "      <td>1</td>\n",
       "      <td>1.000000</td>\n",
       "      <td>1.0</td>\n",
       "      <td>1.0</td>\n",
       "      <td>1.0</td>\n",
       "      <td>1.00</td>\n",
       "      <td>1</td>\n",
       "    </tr>\n",
       "    <tr>\n",
       "      <th>2018-01-31</th>\n",
       "      <td>1</td>\n",
       "      <td>1.612903</td>\n",
       "      <td>1.0</td>\n",
       "      <td>2.0</td>\n",
       "      <td>4.0</td>\n",
       "      <td>6.00</td>\n",
       "      <td>11</td>\n",
       "    </tr>\n",
       "    <tr>\n",
       "      <th>2018-02-28</th>\n",
       "      <td>1</td>\n",
       "      <td>1.534739</td>\n",
       "      <td>1.0</td>\n",
       "      <td>2.0</td>\n",
       "      <td>4.0</td>\n",
       "      <td>5.00</td>\n",
       "      <td>7</td>\n",
       "    </tr>\n",
       "    <tr>\n",
       "      <th>2018-03-31</th>\n",
       "      <td>1</td>\n",
       "      <td>1.615682</td>\n",
       "      <td>1.0</td>\n",
       "      <td>2.0</td>\n",
       "      <td>4.0</td>\n",
       "      <td>5.68</td>\n",
       "      <td>9</td>\n",
       "    </tr>\n",
       "    <tr>\n",
       "      <th>2018-04-30</th>\n",
       "      <td>1</td>\n",
       "      <td>1.510160</td>\n",
       "      <td>1.0</td>\n",
       "      <td>2.0</td>\n",
       "      <td>3.0</td>\n",
       "      <td>5.00</td>\n",
       "      <td>8</td>\n",
       "    </tr>\n",
       "    <tr>\n",
       "      <th>2018-05-31</th>\n",
       "      <td>1</td>\n",
       "      <td>1.465753</td>\n",
       "      <td>1.0</td>\n",
       "      <td>2.0</td>\n",
       "      <td>3.0</td>\n",
       "      <td>5.00</td>\n",
       "      <td>12</td>\n",
       "    </tr>\n",
       "    <tr>\n",
       "      <th>2018-06-30</th>\n",
       "      <td>1</td>\n",
       "      <td>1.582011</td>\n",
       "      <td>1.0</td>\n",
       "      <td>2.0</td>\n",
       "      <td>4.0</td>\n",
       "      <td>5.00</td>\n",
       "      <td>9</td>\n",
       "    </tr>\n",
       "    <tr>\n",
       "      <th>2018-07-31</th>\n",
       "      <td>1</td>\n",
       "      <td>1.668262</td>\n",
       "      <td>1.0</td>\n",
       "      <td>2.0</td>\n",
       "      <td>4.0</td>\n",
       "      <td>6.00</td>\n",
       "      <td>8</td>\n",
       "    </tr>\n",
       "    <tr>\n",
       "      <th>2018-08-31</th>\n",
       "      <td>1</td>\n",
       "      <td>1.698630</td>\n",
       "      <td>1.0</td>\n",
       "      <td>2.0</td>\n",
       "      <td>4.0</td>\n",
       "      <td>6.00</td>\n",
       "      <td>12</td>\n",
       "    </tr>\n",
       "  </tbody>\n",
       "</table>\n",
       "</div>"
      ],
      "text/plain": [
       "            min      mean  median  percentile_75  percentile_95  \\\n",
       "visit_date                                                        \n",
       "2017-12-31    1  1.000000     1.0            1.0            1.0   \n",
       "2018-01-31    1  1.612903     1.0            2.0            4.0   \n",
       "2018-02-28    1  1.534739     1.0            2.0            4.0   \n",
       "2018-03-31    1  1.615682     1.0            2.0            4.0   \n",
       "2018-04-30    1  1.510160     1.0            2.0            3.0   \n",
       "2018-05-31    1  1.465753     1.0            2.0            3.0   \n",
       "2018-06-30    1  1.582011     1.0            2.0            4.0   \n",
       "2018-07-31    1  1.668262     1.0            2.0            4.0   \n",
       "2018-08-31    1  1.698630     1.0            2.0            4.0   \n",
       "\n",
       "            percentile_99  max  \n",
       "visit_date                      \n",
       "2017-12-31           1.00    1  \n",
       "2018-01-31           6.00   11  \n",
       "2018-02-28           5.00    7  \n",
       "2018-03-31           5.68    9  \n",
       "2018-04-30           5.00    8  \n",
       "2018-05-31           5.00   12  \n",
       "2018-06-30           5.00    9  \n",
       "2018-07-31           6.00    8  \n",
       "2018-08-31           6.00   12  "
      ]
     },
     "metadata": {},
     "output_type": "display_data"
    }
   ],
   "source": [
    "import numpy as np\n",
    "\n",
    "def percentile(n):\n",
    "    def percentile_(x):\n",
    "        return np.percentile(x, n)\n",
    "\n",
    "    percentile_.__name__ = \"percentile_%s\" % n\n",
    "    return percentile_\n",
    "\n",
    "\n",
    "# numero médio de visitas por casa\n",
    "# em média, cada casa foi visitada n vezes por mes\n",
    "df_visits_per_house = (\n",
    "    dftenant_reviews.groupby([month, \"house_id\"])[[\"total\"]]\n",
    "    .sum()\n",
    "    .reset_index()\n",
    "    .groupby(\"visit_date\")\n",
    "    .total.agg([\"min\", \"mean\", \"median\", percentile(75), percentile(95), percentile(99), \"max\",])# \"count\", \"var\", \"std\"])\n",
    "    #.set_index('count', append=True)\n",
    ")\n",
    "\n",
    "\n",
    "\n",
    "df_visits_per_house.plot(title='estatística do número de vistas por casa',legend='reverse')\n",
    "plt.show()\n",
    "\n",
    "display(df_visits_per_house)\n",
    "\n",
    "# **3. ideias: analisar/entender o que faz as pessoas voltarem para outras visitas?**\n",
    "# como aumentar o numero de casas e a qualidade das casas"
   ]
  },
  {
   "cell_type": "code",
   "execution_count": null,
   "metadata": {},
   "outputs": [],
   "source": []
  }
 ],
 "metadata": {
  "kernelspec": {
   "display_name": "Python 3.9.12 ('venv': venv)",
   "language": "python",
   "name": "python3"
  },
  "language_info": {
   "codemirror_mode": {
    "name": "ipython",
    "version": 3
   },
   "file_extension": ".py",
   "mimetype": "text/x-python",
   "name": "python",
   "nbconvert_exporter": "python",
   "pygments_lexer": "ipython3",
   "version": "3.9.12"
  },
  "orig_nbformat": 4,
  "vscode": {
   "interpreter": {
    "hash": "40374690f55f17d4e3e05afb7e3fac52de6e17db1ad8bd44f8e6995a8fdfe011"
   }
  }
 },
 "nbformat": 4,
 "nbformat_minor": 2
}
