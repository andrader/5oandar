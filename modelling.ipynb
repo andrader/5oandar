{
 "cells": [
  {
   "cell_type": "code",
   "execution_count": null,
   "metadata": {},
   "outputs": [],
   "source": []
  },
  {
   "cell_type": "markdown",
   "metadata": {},
   "source": [
    "## Modelling"
   ]
  },
  {
   "cell_type": "code",
   "execution_count": null,
   "metadata": {},
   "outputs": [],
   "source": [
    "import numpy as np\n",
    "\n",
    "X, y = dftenant_reviews[neg_flags].copy(), dftenant_reviews.review.copy()\n",
    "\n",
    "from sklearn.model_selection import train_test_split\n",
    "X_train, X_test, y_train, y_test = train_test_split(X, y, test_size=0.33, random_state=42, stratify=y)\n",
    "\n",
    "\n",
    "from sklearn.preprocessing import LabelEncoder\n",
    "encoder = LabelEncoder()\n",
    "encoder.fit(y) # Data leakage?\n",
    "y_train = encoder.transform(y_train)\n",
    "y_test = encoder.transform(y_test)\n",
    "\n",
    "print([x.shape for x in (X_train, X_test, y_train, y_test)])\n",
    "\n",
    "print(\"after stratified: classes in train and test:\", np.unique(y_train), np.unique(y_test))"
   ]
  },
  {
   "cell_type": "code",
   "execution_count": null,
   "metadata": {},
   "outputs": [],
   "source": [
    "from sklearn.tree import DecisionTreeClassifier\n",
    "from sklearn.ensemble import RandomForestClassifier\n",
    "from sklearn.model_selection import GridSearchCV\n",
    "\n",
    "\n",
    "clf = RandomForestClassifier(random_state=42)\n",
    "\n",
    "param_grid = [\n",
    "    dict(\n",
    "        criterion = [\"gini\", \"entropy\"], \n",
    "        #splitter = [\"best\", \"random\"], \n",
    "        max_depth = [None,1,2,4,6,8], \n",
    "        min_samples_split = [10, 16, 20], \n",
    "        min_samples_leaf = [5,10,15], \n",
    "        # min_weight_fraction_leaf = 0, \n",
    "        max_features = [\"sqrt\", \"log2\", ], \n",
    "        # random_state = [42], \n",
    "        max_leaf_nodes = [None,2,4,8,16], \n",
    "        min_impurity_decrease = [0, 0.05, 0.10], \n",
    "        # class_weight = None, \n",
    "        # ccp_alpha = 0\n",
    "    )\n",
    "]\n",
    "\n",
    "\n",
    "np.prod([len(p) for p in param_grid[0].values()])\n"
   ]
  },
  {
   "cell_type": "code",
   "execution_count": null,
   "metadata": {},
   "outputs": [],
   "source": [
    "# gs = GridSearchCV(clf,param_grid, scoring='accuracy', n_jobs=4, verbose=3).fit(X_train,y_train)"
   ]
  },
  {
   "cell_type": "code",
   "execution_count": null,
   "metadata": {},
   "outputs": [],
   "source": [
    "dfgsres = pd.DataFrame(gs.cv_results_).sort_values('rank_test_score').reset_index(drop=True).set_index('params')\n",
    "dfgsres[['mean_test_score', 'std_test_score', 'rank_test_score']].head(50)\n"
   ]
  },
  {
   "cell_type": "code",
   "execution_count": null,
   "metadata": {},
   "outputs": [],
   "source": [
    "clf.set_params(**{'criterion': 'entropy', 'max_depth': 4, 'max_features': 'log2', 'max_leaf_nodes': 8, 'min_impurity_decrease': 0, 'min_samples_leaf': 5, 'min_samples_split': 16, 'splitter': 'random'})\n",
    "\n",
    "clf.fit(X_train, y_train)"
   ]
  },
  {
   "cell_type": "code",
   "execution_count": null,
   "metadata": {},
   "outputs": [],
   "source": [
    "from sklearn.metrics import roc_auc_score, accuracy_score\n",
    "\n",
    "names = ['train', 'test']\n",
    "Xs = [X_train, X_test]\n",
    "ys = [y_train, y_test]\n",
    "\n",
    "metrics = {}\n",
    "\n",
    "for name, X, y in zip(names, Xs, ys):\n",
    "\n",
    "    metrics[name] = dict(\n",
    "        accuracy_score=accuracy_score(y, clf.predict(X)),\n",
    "        roc_auc_score=roc_auc_score(y, clf.predict_proba(X), multi_class=\"ovr\")\n",
    "    )\n",
    "\n",
    "display(pd.DataFrame(metrics))\n"
   ]
  },
  {
   "cell_type": "code",
   "execution_count": null,
   "metadata": {},
   "outputs": [],
   "source": [
    "from sklearn.tree import plot_tree\n",
    "\n",
    "# fig,ax= plt.subplots(figsize=(40,10))\n",
    "# _ = plot_tree(clf, fontsize=9, filled=True, feature_names=clf.feature_names_in_, class_names=True)\n"
   ]
  }
 ],
 "metadata": {
  "kernelspec": {
   "display_name": "Python 3.9.12 ('venv': venv)",
   "language": "python",
   "name": "python3"
  },
  "language_info": {
   "name": "python",
   "version": "3.9.12"
  },
  "orig_nbformat": 4,
  "vscode": {
   "interpreter": {
    "hash": "40374690f55f17d4e3e05afb7e3fac52de6e17db1ad8bd44f8e6995a8fdfe011"
   }
  }
 },
 "nbformat": 4,
 "nbformat_minor": 2
}
